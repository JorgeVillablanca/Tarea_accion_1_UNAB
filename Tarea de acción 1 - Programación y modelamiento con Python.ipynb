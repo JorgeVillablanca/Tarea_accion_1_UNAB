{
 "cells": [
  {
   "cell_type": "markdown",
   "id": "ac7a2287-90b2-4a8d-bf44-1fef458a8b78",
   "metadata": {
    "id": "ac7a2287-90b2-4a8d-bf44-1fef458a8b78"
   },
   "source": [
    "## Tarea de acción 1\n",
    "### Programación y modelamiento con Python - Grupo 5           \n",
    "<img src=\"https://upload.wikimedia.org/wikipedia/commons/f/ff/Logo-Universidad-Andres-Bello-2013-Nuevo.jpg\" width=\"150\" align=\"right\">\n",
    "\n",
    "Integrantes del grupo:\n",
    "\n",
    "1.- Jorge Villablanca\n",
    "\n",
    "2.- Cindi Elizondo\n",
    "\n",
    "3.- Juan Carlos Mérida"
   ]
  },
  {
   "cell_type": "markdown",
   "id": "cd58a44c-4134-462b-810a-5cb024e61070",
   "metadata": {
    "id": "cd58a44c-4134-462b-810a-5cb024e61070"
   },
   "source": [
    "### Descripción de la tarea\n",
    "\n",
    "Para el desarrollo de esta tarea es necesario estudiar el material correspondiente a este módulo,\n",
    "junto con las clases sincrónicas.\n",
    "En el ámbito de la industria hotelera, la comprensión de los datos resulta fundamental para\n",
    "optimizar la gestión de reservas y mejorar la experiencia del cliente. Aplicando estadística\n",
    "descriptiva podemos analizar y resumir los datos disponibles, permitiendo identificar patrones,\n",
    "y tendencias.\n",
    "En esta tarea, nos adentraremos en el análisis estadístico descriptivo de una base de datos de\n",
    "reservas de hoteles utilizando Python. A través del uso de técnicas estadísticas y visualizaciones,\n",
    "exploraremos diversos aspectos del conjunto de datos para obtener información relevante.\n",
    "La base de datos viene en formato csv (hotel_bookings.csv) y contiene información de reservas\n",
    "realizados por clientes para dos diferentes hoteles urbano y turístico. Los campos disponibles\n",
    "son:\n",
    "\n",
    "- `hotel:` Hotel (H1 = Resort Hotel o H2 = City Hotel)\n",
    "- `is_canceled:` Valor que indica si la reserva se ha cancelado (1) o no (0)\n",
    "- `lead_time:` Número de días transcurridos entre la fecha de entrada de la reserva en el\n",
    "PMS y la fecha de llegada\n",
    "- `arrival_date_year:` Año de la fecha de llegada\n",
    "- `arrival_date_month:` Mes de la fecha de llegada\n",
    "- `arrival_date_week_number:` Número de semana del año para la fecha de llegada\n",
    "- `arrival_date_day_of_month:` Día de llegada\n",
    "- `stays_in_weekend_nights:` Número de noches de fin de semana (sábado o domingo)\n",
    "que el huésped se alojó o reservó para alojarse en el hotel\n",
    "- `stays_in_week_nights:` Número de noches de la semana (de lunes a viernes) que el\n",
    "huésped se alojó o reservó para alojarse en el hotel\n",
    "- `adults:` Número de adultos\n",
    "- `children:` Número de niños\n",
    "- `babies:` Número de bebés\n",
    "- `meal:` Tipo de comida reservada. Las categorías se presentan en paquetes de comidas\n",
    "de hospitalidad estándar: Undefined/SC – no meal\n",
    "- `country:` País de origen. Las categorías se representan en el formato ISO 3155-3:2013\n",
    "- `market_segment:` Designación del segmento de mercado. En las categorías, el término\n",
    "\"AT\" significa \"agencias de viajes\" y \"TO\" significa \"turoperadores\".\n",
    "- `distribution_channel:` Canal de distribución de reservas. El término \"TA\" significa\n",
    "\"Agencias de Viajes\" y \"TO\" significa \"Tour Operadores\".\n",
    "- `is_repeated_guest:` Valor que indica si el nombre de la reserva era de un huésped\n",
    "repetido (1) o no (0)\n",
    "- `previous_cancellations:` Número de reservas anteriores canceladas por el cliente antes\n",
    "de la reserva actual\n",
    "- `previous_bookings_not_canceled:` Número de reservas anteriores no canceladas por el\n",
    "cliente antes de la reserva actual\n",
    "- `reserved_room_type:` Código del tipo de habitación reservada. El código se presenta en\n",
    "lugar de la designación por razones de anonimato.\n",
    "- `assigned_room_type:` Código del tipo de habitación asignado a la reserva. A veces, el\n",
    "tipo de habitación asignado difiere del tipo de habitación reservado\n",
    "- `booking_changes:` Número de cambios/enmiendas realizadas en la reserva desde el\n",
    "momento en que se introdujo en el PMS\n",
    "- `deposit_type:` Indicación de si el cliente hizo un depósito para garantizar la reserva. Esta\n",
    "variable puede asumir tres categorías: No\n",
    "- `agent:` ID de la agencia de viajes que realizó la reserva\n",
    "- `company:` ID de la empresa/entidad que realizó la reserva o responsable del pago de la\n",
    "reserva. La identificación se presenta en lugar de la designación por razones de\n",
    "anonimato.\n",
    "- `days_in_waiting_list:` Número de días que la reserva estuvo en lista de espera antes de\n",
    "ser confirmada al cliente\n",
    "- `customer_type:` Tipo de reserva, asumiendo una de las cuatro categorías: Contrato -\n",
    "cuando la reserva tiene asociada una adjudicación u otro tipo de contrato; Grupo -\n",
    "cuando la reserva está asociada a un grupo; Transitoria - cuando la reserva no forma\n",
    "parte de un grupo o contrato, y no está asociada a otra reserva transitoria; Transitoria-\n",
    "parte - cuando la reserva es transitoria, pero está asociada al menos a otra reserva\n",
    "transitoria.\n",
    "- `adr:` Tarifa media diaria definida dividiendo la suma de todas las transacciones de\n",
    "alojamiento por el número total de noches de estancia.\n",
    "- `required_car_parking_spaces:` Número de plazas de aparcamiento que necesita el\n",
    "cliente\n",
    "- `total_of_special_requests:` Número de peticiones especiales realizadas por el cliente\n",
    "(por ejemplo, cama doble o piso alto)\n",
    "- `reservation_status:` Último estado de la reserva, asumiendo una de las tres categorías:\n",
    "Cancelada: el cliente ha cancelado la reserva; Check-Out: el cliente se ha registrado,\n",
    "pero ya se ha marchado; No-Show: el cliente no se ha registrado y ha informado al hotel\n",
    "del motivo.\n",
    "- `reservation_status_date:` Fecha en la que se estableció el último estado. Esta variable\n",
    "se puede utilizar junto con reservation_status para saber cuándo se canceló la reserva\n",
    "o cuándo abandonó el cliente el hotel."
   ]
  },
  {
   "cell_type": "markdown",
   "id": "82da5f9a-e070-43f0-b180-00af6841527e",
   "metadata": {
    "id": "82da5f9a-e070-43f0-b180-00af6841527e"
   },
   "source": [
    "### Actividades"
   ]
  },
  {
   "cell_type": "markdown",
   "id": "21d58eca-61fa-4e8b-8274-e829421f31b6",
   "metadata": {
    "id": "21d58eca-61fa-4e8b-8274-e829421f31b6"
   },
   "source": [
    "#### 1. Operaciones de limpieza\n",
    "`(20 pts.)`"
   ]
  },
  {
   "cell_type": "markdown",
   "id": "da472beb",
   "metadata": {
    "id": "da472beb"
   },
   "source": [
    "#### En primer lugar cargamos las librerías necesarias para desarrollar la actividad:"
   ]
  },
  {
   "cell_type": "code",
   "execution_count": 1,
   "id": "31d4c0ae",
   "metadata": {
    "executionInfo": {
     "elapsed": 482,
     "status": "ok",
     "timestamp": 1729310141753,
     "user": {
      "displayName": "cindi elizondo marin",
      "userId": "00194596993511553788"
     },
     "user_tz": 180
    },
    "id": "31d4c0ae"
   },
   "outputs": [
    {
     "ename": "ModuleNotFoundError",
     "evalue": "No module named 'matplotlib'",
     "output_type": "error",
     "traceback": [
      "\u001b[0;31m---------------------------------------------------------------------------\u001b[0m",
      "\u001b[0;31mModuleNotFoundError\u001b[0m                       Traceback (most recent call last)",
      "Cell \u001b[0;32mIn[1], line 6\u001b[0m\n\u001b[1;32m      3\u001b[0m \u001b[38;5;28;01mimport\u001b[39;00m \u001b[38;5;21;01mnumpy\u001b[39;00m \u001b[38;5;28;01mas\u001b[39;00m \u001b[38;5;21;01mnp\u001b[39;00m\n\u001b[1;32m      5\u001b[0m \u001b[38;5;66;03m# Para graficar:\u001b[39;00m\n\u001b[0;32m----> 6\u001b[0m \u001b[38;5;28;01mimport\u001b[39;00m \u001b[38;5;21;01mmatplotlib\u001b[39;00m\u001b[38;5;21;01m.\u001b[39;00m\u001b[38;5;21;01mpyplot\u001b[39;00m \u001b[38;5;28;01mas\u001b[39;00m \u001b[38;5;21;01mplt\u001b[39;00m\n\u001b[1;32m      7\u001b[0m \u001b[38;5;28;01mimport\u001b[39;00m \u001b[38;5;21;01mseaborn\u001b[39;00m \u001b[38;5;28;01mas\u001b[39;00m \u001b[38;5;21;01msns\u001b[39;00m\n\u001b[1;32m      9\u001b[0m \u001b[38;5;66;03m# Para cálculos:\u001b[39;00m\n",
      "\u001b[0;31mModuleNotFoundError\u001b[0m: No module named 'matplotlib'"
     ]
    }
   ],
   "source": [
    "# Manipulación y análisis de datos:\n",
    "import pandas as pd\n",
    "import numpy as np\n",
    "\n",
    "# Para graficar:\n",
    "import matplotlib.pyplot as plt\n",
    "import seaborn as sns\n",
    "\n",
    "# Para cálculos:\n",
    "import scipy.stats as stats\n",
    "from scipy.stats import norm\n",
    "\n",
    "# Transformación de variables:\n",
    "from sklearn.preprocessing import MinMaxScaler\n",
    "from sklearn.preprocessing import MaxAbsScaler\n",
    "from sklearn.preprocessing import StandardScaler\n",
    "from sklearn.preprocessing import RobustScaler"
   ]
  },
  {
   "cell_type": "markdown",
   "id": "a5466456-206e-460d-af1c-449464ae27ed",
   "metadata": {
    "id": "a5466456-206e-460d-af1c-449464ae27ed"
   },
   "source": [
    "#### 1.1 Cargar los datos y mostrar cinco registros seleccionados al azar"
   ]
  },
  {
   "cell_type": "code",
   "execution_count": 2,
   "id": "6f852216-7c71-46af-a855-b1147ebef2ef",
   "metadata": {
    "colab": {
     "base_uri": "https://localhost:8080/",
     "height": 342
    },
    "executionInfo": {
     "elapsed": 569,
     "status": "ok",
     "timestamp": 1729310143241,
     "user": {
      "displayName": "cindi elizondo marin",
      "userId": "00194596993511553788"
     },
     "user_tz": 180
    },
    "id": "6f852216-7c71-46af-a855-b1147ebef2ef",
    "outputId": "fab7eae3-19f1-44ee-b387-09cb9b56284b"
   },
   "outputs": [
    {
     "data": {
      "text/html": [
       "<div>\n",
       "<style scoped>\n",
       "    .dataframe tbody tr th:only-of-type {\n",
       "        vertical-align: middle;\n",
       "    }\n",
       "\n",
       "    .dataframe tbody tr th {\n",
       "        vertical-align: top;\n",
       "    }\n",
       "\n",
       "    .dataframe thead th {\n",
       "        text-align: right;\n",
       "    }\n",
       "</style>\n",
       "<table border=\"1\" class=\"dataframe\">\n",
       "  <thead>\n",
       "    <tr style=\"text-align: right;\">\n",
       "      <th></th>\n",
       "      <th>hotel</th>\n",
       "      <th>is_canceled</th>\n",
       "      <th>lead_time</th>\n",
       "      <th>arrival_date_year</th>\n",
       "      <th>arrival_date_month</th>\n",
       "      <th>arrival_date_week_number</th>\n",
       "      <th>arrival_date_day_of_month</th>\n",
       "      <th>stays_in_weekend_nights</th>\n",
       "      <th>stays_in_week_nights</th>\n",
       "      <th>adults</th>\n",
       "      <th>...</th>\n",
       "      <th>deposit_type</th>\n",
       "      <th>agent</th>\n",
       "      <th>company</th>\n",
       "      <th>days_in_waiting_list</th>\n",
       "      <th>customer_type</th>\n",
       "      <th>adr</th>\n",
       "      <th>required_car_parking_spaces</th>\n",
       "      <th>total_of_special_requests</th>\n",
       "      <th>reservation_status</th>\n",
       "      <th>reservation_status_date</th>\n",
       "    </tr>\n",
       "  </thead>\n",
       "  <tbody>\n",
       "    <tr>\n",
       "      <th>98453</th>\n",
       "      <td>City Hotel</td>\n",
       "      <td>0</td>\n",
       "      <td>40</td>\n",
       "      <td>2016</td>\n",
       "      <td>September</td>\n",
       "      <td>40</td>\n",
       "      <td>29</td>\n",
       "      <td>0</td>\n",
       "      <td>1</td>\n",
       "      <td>2</td>\n",
       "      <td>...</td>\n",
       "      <td>No Deposit</td>\n",
       "      <td>9.0</td>\n",
       "      <td>NaN</td>\n",
       "      <td>0</td>\n",
       "      <td>Transient</td>\n",
       "      <td>104.49</td>\n",
       "      <td>0</td>\n",
       "      <td>1</td>\n",
       "      <td>Check-Out</td>\n",
       "      <td>2016-09-30</td>\n",
       "    </tr>\n",
       "    <tr>\n",
       "      <th>16716</th>\n",
       "      <td>Resort Hotel</td>\n",
       "      <td>0</td>\n",
       "      <td>244</td>\n",
       "      <td>2015</td>\n",
       "      <td>September</td>\n",
       "      <td>36</td>\n",
       "      <td>2</td>\n",
       "      <td>2</td>\n",
       "      <td>5</td>\n",
       "      <td>2</td>\n",
       "      <td>...</td>\n",
       "      <td>No Deposit</td>\n",
       "      <td>96.0</td>\n",
       "      <td>NaN</td>\n",
       "      <td>0</td>\n",
       "      <td>Transient-Party</td>\n",
       "      <td>57.00</td>\n",
       "      <td>0</td>\n",
       "      <td>0</td>\n",
       "      <td>Check-Out</td>\n",
       "      <td>2015-09-09</td>\n",
       "    </tr>\n",
       "    <tr>\n",
       "      <th>65884</th>\n",
       "      <td>City Hotel</td>\n",
       "      <td>1</td>\n",
       "      <td>56</td>\n",
       "      <td>2017</td>\n",
       "      <td>April</td>\n",
       "      <td>15</td>\n",
       "      <td>9</td>\n",
       "      <td>2</td>\n",
       "      <td>2</td>\n",
       "      <td>2</td>\n",
       "      <td>...</td>\n",
       "      <td>No Deposit</td>\n",
       "      <td>9.0</td>\n",
       "      <td>NaN</td>\n",
       "      <td>0</td>\n",
       "      <td>Transient</td>\n",
       "      <td>144.00</td>\n",
       "      <td>0</td>\n",
       "      <td>0</td>\n",
       "      <td>Canceled</td>\n",
       "      <td>2017-03-08</td>\n",
       "    </tr>\n",
       "    <tr>\n",
       "      <th>41716</th>\n",
       "      <td>City Hotel</td>\n",
       "      <td>0</td>\n",
       "      <td>4</td>\n",
       "      <td>2015</td>\n",
       "      <td>August</td>\n",
       "      <td>34</td>\n",
       "      <td>22</td>\n",
       "      <td>0</td>\n",
       "      <td>1</td>\n",
       "      <td>2</td>\n",
       "      <td>...</td>\n",
       "      <td>No Deposit</td>\n",
       "      <td>NaN</td>\n",
       "      <td>NaN</td>\n",
       "      <td>0</td>\n",
       "      <td>Transient</td>\n",
       "      <td>79.00</td>\n",
       "      <td>0</td>\n",
       "      <td>1</td>\n",
       "      <td>Check-Out</td>\n",
       "      <td>2015-08-23</td>\n",
       "    </tr>\n",
       "    <tr>\n",
       "      <th>112390</th>\n",
       "      <td>City Hotel</td>\n",
       "      <td>0</td>\n",
       "      <td>121</td>\n",
       "      <td>2017</td>\n",
       "      <td>May</td>\n",
       "      <td>20</td>\n",
       "      <td>17</td>\n",
       "      <td>2</td>\n",
       "      <td>5</td>\n",
       "      <td>2</td>\n",
       "      <td>...</td>\n",
       "      <td>No Deposit</td>\n",
       "      <td>9.0</td>\n",
       "      <td>NaN</td>\n",
       "      <td>0</td>\n",
       "      <td>Transient</td>\n",
       "      <td>137.57</td>\n",
       "      <td>0</td>\n",
       "      <td>0</td>\n",
       "      <td>Check-Out</td>\n",
       "      <td>2017-05-24</td>\n",
       "    </tr>\n",
       "  </tbody>\n",
       "</table>\n",
       "<p>5 rows × 32 columns</p>\n",
       "</div>"
      ],
      "text/plain": [
       "               hotel  is_canceled  lead_time  arrival_date_year  \\\n",
       "98453     City Hotel            0         40               2016   \n",
       "16716   Resort Hotel            0        244               2015   \n",
       "65884     City Hotel            1         56               2017   \n",
       "41716     City Hotel            0          4               2015   \n",
       "112390    City Hotel            0        121               2017   \n",
       "\n",
       "       arrival_date_month  arrival_date_week_number  \\\n",
       "98453           September                        40   \n",
       "16716           September                        36   \n",
       "65884               April                        15   \n",
       "41716              August                        34   \n",
       "112390                May                        20   \n",
       "\n",
       "        arrival_date_day_of_month  stays_in_weekend_nights  \\\n",
       "98453                          29                        0   \n",
       "16716                           2                        2   \n",
       "65884                           9                        2   \n",
       "41716                          22                        0   \n",
       "112390                         17                        2   \n",
       "\n",
       "        stays_in_week_nights  adults  ...  deposit_type  agent company  \\\n",
       "98453                      1       2  ...    No Deposit    9.0     NaN   \n",
       "16716                      5       2  ...    No Deposit   96.0     NaN   \n",
       "65884                      2       2  ...    No Deposit    9.0     NaN   \n",
       "41716                      1       2  ...    No Deposit    NaN     NaN   \n",
       "112390                     5       2  ...    No Deposit    9.0     NaN   \n",
       "\n",
       "       days_in_waiting_list    customer_type     adr  \\\n",
       "98453                     0        Transient  104.49   \n",
       "16716                     0  Transient-Party   57.00   \n",
       "65884                     0        Transient  144.00   \n",
       "41716                     0        Transient   79.00   \n",
       "112390                    0        Transient  137.57   \n",
       "\n",
       "        required_car_parking_spaces  total_of_special_requests  \\\n",
       "98453                             0                          1   \n",
       "16716                             0                          0   \n",
       "65884                             0                          0   \n",
       "41716                             0                          1   \n",
       "112390                            0                          0   \n",
       "\n",
       "        reservation_status reservation_status_date  \n",
       "98453            Check-Out              2016-09-30  \n",
       "16716            Check-Out              2015-09-09  \n",
       "65884             Canceled              2017-03-08  \n",
       "41716            Check-Out              2015-08-23  \n",
       "112390           Check-Out              2017-05-24  \n",
       "\n",
       "[5 rows x 32 columns]"
      ]
     },
     "execution_count": 2,
     "metadata": {},
     "output_type": "execute_result"
    }
   ],
   "source": [
    "# Cargar los datos desde un archivo Excel en un DataFrame de pandas\n",
    "df = pd.read_csv(\"hotel_bookings.csv\")\n",
    "\n",
    "# Mostrar las primeras 5 filas del DataFrame para tener una vista previa de los datos cargados\n",
    "df.sample(5)"
   ]
  },
  {
   "cell_type": "markdown",
   "id": "5efae18d-c322-4eb4-afb5-3eced5a16b71",
   "metadata": {
    "id": "5efae18d-c322-4eb4-afb5-3eced5a16b71"
   },
   "source": [
    "#### 1.2 Mostrar la cantidad de filas y cantidad de características"
   ]
  },
  {
   "cell_type": "code",
   "execution_count": 3,
   "id": "740d6286-7089-4b57-9ec0-de35eb00344b",
   "metadata": {
    "colab": {
     "base_uri": "https://localhost:8080/"
    },
    "executionInfo": {
     "elapsed": 97,
     "status": "ok",
     "timestamp": 1729310143241,
     "user": {
      "displayName": "cindi elizondo marin",
      "userId": "00194596993511553788"
     },
     "user_tz": 180
    },
    "id": "740d6286-7089-4b57-9ec0-de35eb00344b",
    "outputId": "608efee8-76e3-4b8e-8798-62949fc5cd07"
   },
   "outputs": [
    {
     "name": "stdout",
     "output_type": "stream",
     "text": [
      "Número de filas: 119390\n",
      "Número de columnas: 32\n"
     ]
    }
   ],
   "source": [
    "# Obtener la cantidad de filas y columnas del DataFrame\n",
    "filas, columnas = df.shape\n",
    "\n",
    "# Imprimir el número de filas y columnas del DataFrame\n",
    "print(f\"Número de filas: {filas}\")\n",
    "print(f\"Número de columnas: {columnas}\")"
   ]
  },
  {
   "cell_type": "markdown",
   "id": "f1ad6898-37a5-46f3-8e6f-8ab9c1969deb",
   "metadata": {
    "id": "f1ad6898-37a5-46f3-8e6f-8ab9c1969deb"
   },
   "source": [
    "#### 1.3 Clasifique cada variable en nominal, ordinal y continuo"
   ]
  },
  {
   "cell_type": "markdown",
   "id": "b358c6ae-c2e4-44f5-958f-05922c659a8c",
   "metadata": {
    "id": "b358c6ae-c2e4-44f5-958f-05922c659a8c"
   },
   "source": [
    "#### Obtenemos los nombres de nuestras columnas para su posterior clasificación:"
   ]
  },
  {
   "cell_type": "code",
   "execution_count": 4,
   "id": "5a4d5664",
   "metadata": {
    "colab": {
     "base_uri": "https://localhost:8080/"
    },
    "executionInfo": {
     "elapsed": 88,
     "status": "ok",
     "timestamp": 1729310143241,
     "user": {
      "displayName": "cindi elizondo marin",
      "userId": "00194596993511553788"
     },
     "user_tz": 180
    },
    "id": "5a4d5664",
    "outputId": "06060a6f-bb44-4cb0-d35a-feca328c22bd",
    "scrolled": true
   },
   "outputs": [
    {
     "name": "stdout",
     "output_type": "stream",
     "text": [
      "hotel\n",
      "is_canceled\n",
      "lead_time\n",
      "arrival_date_year\n",
      "arrival_date_month\n",
      "arrival_date_week_number\n",
      "arrival_date_day_of_month\n",
      "stays_in_weekend_nights\n",
      "stays_in_week_nights\n",
      "adults\n",
      "children\n",
      "babies\n",
      "meal\n",
      "country\n",
      "market_segment\n",
      "distribution_channel\n",
      "is_repeated_guest\n",
      "previous_cancellations\n",
      "previous_bookings_not_canceled\n",
      "reserved_room_type\n",
      "assigned_room_type\n",
      "booking_changes\n",
      "deposit_type\n",
      "agent\n",
      "company\n",
      "days_in_waiting_list\n",
      "customer_type\n",
      "adr\n",
      "required_car_parking_spaces\n",
      "total_of_special_requests\n",
      "reservation_status\n",
      "reservation_status_date\n"
     ]
    }
   ],
   "source": [
    "# Obtener los nombres de las columnas\n",
    "column_names = df.columns.tolist()\n",
    "\n",
    "# Mostrar los nombres de las columnas\n",
    "for column in column_names:\n",
    "    print(column)"
   ]
  },
  {
   "cell_type": "code",
   "execution_count": 5,
   "id": "61f80a9c",
   "metadata": {
    "colab": {
     "base_uri": "https://localhost:8080/"
    },
    "executionInfo": {
     "elapsed": 77,
     "status": "ok",
     "timestamp": 1729310143242,
     "user": {
      "displayName": "cindi elizondo marin",
      "userId": "00194596993511553788"
     },
     "user_tz": 180
    },
    "id": "61f80a9c",
    "outputId": "286a308d-a87a-453f-bd8d-4e2a05e154ec",
    "scrolled": true
   },
   "outputs": [
    {
     "name": "stdout",
     "output_type": "stream",
     "text": [
      "Columna: hotel\n",
      "Valores únicos (2): ['Resort Hotel' 'City Hotel']\n",
      "--------------------------------------------------\n",
      "Columna: is_canceled\n",
      "Valores únicos (2): [0 1]\n",
      "--------------------------------------------------\n",
      "Columna: lead_time\n",
      "Valores únicos (479): [342 737   7  13  14   0   9  85  75  23  35  68  18  37  12  72 127  78\n",
      "  48  60  77  99 118  95  96  69  45  40  15  36  43  70  16 107  47 113\n",
      "  90  50  93  76   3   1  10   5  17  51  71  63  62 101   2  81 368 364\n",
      " 324  79  21 109 102   4  98  92  26  73 115  86  52  29  30  33  32   8\n",
      " 100  44  80  97  64  39  34  27  82  94 110 111  84  66 104  28 258 112\n",
      "  65  67  55  88  54 292  83 105 280 394  24 103 366 249  22  91  11 108\n",
      " 106  31  87  41 304 117  59  53  58 116  42 321  38  56  49 317   6  57\n",
      "  19  25 315 123  46  89  61 312 299 130  74 298 119  20 286 136 129 124\n",
      " 327 131 460 140 114 139 122 137 126 120 128 135 150 143 151 132 125 157\n",
      " 147 138 156 164 346 159 160 161 333 381 149 154 297 163 314 155 323 340\n",
      " 356 142 328 144 336 248 302 175 344 382 146 170 166 338 167 310 148 165\n",
      " 172 171 145 121 178 305 173 152 354 347 158 185 349 183 352 177 200 192\n",
      " 361 207 174 330 134 350 334 283 153 197 133 241 193 235 194 261 260 216\n",
      " 169 209 238 215 141 189 187 223 284 214 202 211 168 230 203 188 232 709\n",
      " 219 162 196 190 259 228 176 250 201 186 199 180 206 205 224 222 182 210\n",
      " 275 212 229 218 208 191 181 179 246 255 226 288 253 252 262 236 256 234\n",
      " 254 468 213 237 198 195 239 263 265 274 217 220 307 221 233 257 227 276\n",
      " 225 264 311 277 204 290 266 270 294 319 282 251 322 291 269 240 271 184\n",
      " 231 268 247 273 300 301 267 244 306 293 309 272 242 295 285 243 308 398\n",
      " 303 245 424 279 331 281 339 434 357 325 329 278 332 343 345 360 348 367\n",
      " 353 373 374 406 400 326 379 399 316 341 320 385 355 363 358 296 422 390\n",
      " 335 370 376 375 397 289 542 403 383 384 359 393 337 362 365 435 386 378\n",
      " 313 351 287 471 462 411 450 318 372 371 454 532 445 389 388 407 443 437\n",
      " 451 391 405 412 419 420 426 433 440 429 418 447 461 605 457 475 464 482\n",
      " 626 489 496 503 510 517 524 531 538 545 552 559 566 573 580 587 594 601\n",
      " 608 615 622 629 396 410 395 423 408 409 448 465 387 414 476 479 467 490\n",
      " 493 478 504 507 458 518 521 377 444 380 463]\n",
      "--------------------------------------------------\n",
      "Columna: arrival_date_year\n",
      "Valores únicos (3): [2015 2016 2017]\n",
      "--------------------------------------------------\n",
      "Columna: arrival_date_month\n",
      "Valores únicos (12): ['July' 'August' 'September' 'October' 'November' 'December' 'January'\n",
      " 'February' 'March' 'April' 'May' 'June']\n",
      "--------------------------------------------------\n",
      "Columna: arrival_date_week_number\n",
      "Valores únicos (53): [27 28 29 30 31 32 33 34 35 36 37 38 39 40 41 42 43 44 45 46 47 48 49 50\n",
      " 51 52 53  1  2  3  4  5  6  7  8  9 10 11 12 13 14 15 16 17 18 19 20 21\n",
      " 22 23 24 25 26]\n",
      "--------------------------------------------------\n",
      "Columna: arrival_date_day_of_month\n",
      "Valores únicos (31): [ 1  2  3  4  5  6  7  8  9 10 11 12 13 14 15 16 17 18 19 20 21 22 23 24\n",
      " 25 26 27 28 29 30 31]\n",
      "--------------------------------------------------\n",
      "Columna: stays_in_weekend_nights\n",
      "Valores únicos (17): [ 0  1  2  4  3  6 13  8  5  7 12  9 16 18 19 10 14]\n",
      "--------------------------------------------------\n",
      "Columna: stays_in_week_nights\n",
      "Valores únicos (35): [ 0  1  2  3  4  5 10 11  8  6  7 15  9 12 33 20 14 16 21 13 30 19 24 40\n",
      " 22 42 50 25 17 32 26 18 34 35 41]\n",
      "--------------------------------------------------\n",
      "Columna: adults\n",
      "Valores únicos (14): [ 2  1  3  4 40 26 50 27 55  0 20  6  5 10]\n",
      "--------------------------------------------------\n",
      "Columna: children\n",
      "Valores únicos (6): [ 0.  1.  2. 10.  3. nan]\n",
      "--------------------------------------------------\n",
      "Columna: babies\n",
      "Valores únicos (5): [ 0  1  2 10  9]\n",
      "--------------------------------------------------\n",
      "Columna: meal\n",
      "Valores únicos (5): ['BB' 'FB' 'HB' 'SC' 'Undefined']\n",
      "--------------------------------------------------\n",
      "Columna: country\n",
      "Valores únicos (178): ['PRT' 'GBR' 'USA' 'ESP' 'IRL' 'FRA' nan 'ROU' 'NOR' 'OMN' 'ARG' 'POL'\n",
      " 'DEU' 'BEL' 'CHE' 'CN' 'GRC' 'ITA' 'NLD' 'DNK' 'RUS' 'SWE' 'AUS' 'EST'\n",
      " 'CZE' 'BRA' 'FIN' 'MOZ' 'BWA' 'LUX' 'SVN' 'ALB' 'IND' 'CHN' 'MEX' 'MAR'\n",
      " 'UKR' 'SMR' 'LVA' 'PRI' 'SRB' 'CHL' 'AUT' 'BLR' 'LTU' 'TUR' 'ZAF' 'AGO'\n",
      " 'ISR' 'CYM' 'ZMB' 'CPV' 'ZWE' 'DZA' 'KOR' 'CRI' 'HUN' 'ARE' 'TUN' 'JAM'\n",
      " 'HRV' 'HKG' 'IRN' 'GEO' 'AND' 'GIB' 'URY' 'JEY' 'CAF' 'CYP' 'COL' 'GGY'\n",
      " 'KWT' 'NGA' 'MDV' 'VEN' 'SVK' 'FJI' 'KAZ' 'PAK' 'IDN' 'LBN' 'PHL' 'SEN'\n",
      " 'SYC' 'AZE' 'BHR' 'NZL' 'THA' 'DOM' 'MKD' 'MYS' 'ARM' 'JPN' 'LKA' 'CUB'\n",
      " 'CMR' 'BIH' 'MUS' 'COM' 'SUR' 'UGA' 'BGR' 'CIV' 'JOR' 'SYR' 'SGP' 'BDI'\n",
      " 'SAU' 'VNM' 'PLW' 'QAT' 'EGY' 'PER' 'MLT' 'MWI' 'ECU' 'MDG' 'ISL' 'UZB'\n",
      " 'NPL' 'BHS' 'MAC' 'TGO' 'TWN' 'DJI' 'STP' 'KNA' 'ETH' 'IRQ' 'HND' 'RWA'\n",
      " 'KHM' 'MCO' 'BGD' 'IMN' 'TJK' 'NIC' 'BEN' 'VGB' 'TZA' 'GAB' 'GHA' 'TMP'\n",
      " 'GLP' 'KEN' 'LIE' 'GNB' 'MNE' 'UMI' 'MYT' 'FRO' 'MMR' 'PAN' 'BFA' 'LBY'\n",
      " 'MLI' 'NAM' 'BOL' 'PRY' 'BRB' 'ABW' 'AIA' 'SLV' 'DMA' 'PYF' 'GUY' 'LCA'\n",
      " 'ATA' 'GTM' 'ASM' 'MRT' 'NCL' 'KIR' 'SDN' 'ATF' 'SLE' 'LAO']\n",
      "--------------------------------------------------\n",
      "Columna: market_segment\n",
      "Valores únicos (8): ['Direct' 'Corporate' 'Online TA' 'Offline TA/TO' 'Complementary' 'Groups'\n",
      " 'Undefined' 'Aviation']\n",
      "--------------------------------------------------\n",
      "Columna: distribution_channel\n",
      "Valores únicos (5): ['Direct' 'Corporate' 'TA/TO' 'Undefined' 'GDS']\n",
      "--------------------------------------------------\n",
      "Columna: is_repeated_guest\n",
      "Valores únicos (2): [0 1]\n",
      "--------------------------------------------------\n",
      "Columna: previous_cancellations\n",
      "Valores únicos (15): [ 0  1  2  3 26 25 14  4 24 19  5 21  6 13 11]\n",
      "--------------------------------------------------\n",
      "Columna: previous_bookings_not_canceled\n",
      "Valores únicos (73): [ 0  1  2  3  4  5  6  7  8  9 10 11 12 13 14 15 16 17 18 20 21 22 23 24\n",
      " 25 27 28 29 30 19 26 31 32 33 34 35 36 37 38 39 40 41 42 43 44 45 46 47\n",
      " 48 49 50 51 52 53 54 55 56 57 58 59 60 61 62 63 64 65 66 67 68 69 70 71\n",
      " 72]\n",
      "--------------------------------------------------\n",
      "Columna: reserved_room_type\n",
      "Valores únicos (10): ['C' 'A' 'D' 'E' 'G' 'F' 'H' 'L' 'P' 'B']\n",
      "--------------------------------------------------\n",
      "Columna: assigned_room_type\n",
      "Valores únicos (12): ['C' 'A' 'D' 'E' 'G' 'F' 'I' 'B' 'H' 'P' 'L' 'K']\n",
      "--------------------------------------------------\n",
      "Columna: booking_changes\n",
      "Valores únicos (21): [ 3  4  0  1  2  5 17  6  8  7 10 16  9 13 12 20 14 15 11 21 18]\n",
      "--------------------------------------------------\n",
      "Columna: deposit_type\n",
      "Valores únicos (3): ['No Deposit' 'Refundable' 'Non Refund']\n",
      "--------------------------------------------------\n",
      "Columna: agent\n",
      "Valores únicos (334): [ nan 304. 240. 303.  15. 241.   8. 250. 115.   5. 175. 134. 156. 243.\n",
      " 242.   3. 105.  40. 147. 306. 184.  96.   2. 127.  95. 146.   9. 177.\n",
      "   6. 143. 244. 149. 167. 300. 171. 305.  67. 196. 152. 142. 261. 104.\n",
      "  36.  26.  29. 258. 110.  71. 181.  88. 251. 275.  69. 248. 208. 256.\n",
      " 314. 126. 281. 273. 253. 185. 330. 334. 328. 326. 321. 324. 313.  38.\n",
      " 155.  68. 335. 308. 332.  94. 348. 310. 339. 375.  66. 327. 387. 298.\n",
      "  91. 245. 385. 257. 393. 168. 405. 249. 315.  75. 128. 307.  11. 436.\n",
      "   1. 201. 183. 223. 368. 336. 291. 464. 411. 481.  10. 154. 468. 410.\n",
      " 390. 440. 495. 492. 493. 434.  57. 531. 420. 483. 526. 472. 429.  16.\n",
      " 446.  34.  78. 139. 252. 270.  47. 114. 301. 193. 182. 135. 350. 195.\n",
      " 352. 355. 159. 363. 384. 360. 331. 367.  64. 406. 163. 414. 333. 427.\n",
      " 431. 430. 426. 438. 433. 418. 441. 282. 432.  72. 450. 180. 454. 455.\n",
      "  59. 451. 254. 358. 469. 165. 467. 510. 337. 476. 502. 527. 479. 508.\n",
      " 535. 302. 497. 187.  13.   7.  27.  14.  22.  17.  28.  42.  20.  19.\n",
      "  45.  37.  61.  39.  21.  24.  41.  50.  30.  54.  52.  12.  44.  31.\n",
      "  83.  32.  63.  60.  55.  56.  89.  87. 118.  86.  85. 210. 214. 129.\n",
      " 179. 138. 174. 170. 153.  93. 151. 119.  35. 173.  58.  53. 133.  79.\n",
      " 235. 192. 191. 236. 162. 215. 157. 287. 132. 234.  98.  77. 103. 107.\n",
      " 262. 220. 121. 205. 378.  23. 296. 290. 229.  33. 286. 276. 425. 484.\n",
      " 323. 403. 219. 394. 509. 111. 423.   4.  70.  82.  81.  74.  92.  99.\n",
      "  90. 112. 117. 106. 148. 158. 144. 211. 213. 216. 232. 150. 267. 227.\n",
      " 247. 278. 280. 285. 289. 269. 295. 265. 288. 122. 294. 325. 341. 344.\n",
      " 346. 359. 283. 364. 370. 371.  25. 141. 391. 397. 416. 404. 299. 197.\n",
      "  73. 354. 444. 408. 461. 388. 453. 459. 474. 475. 480. 449.]\n",
      "--------------------------------------------------\n",
      "Columna: company\n",
      "Valores únicos (353): [ nan 110. 113. 270. 178. 240. 154. 144. 307. 268.  59. 204. 312. 318.\n",
      "  94. 174. 274. 195. 223. 317. 281. 118.  53. 286.  12.  47. 324. 342.\n",
      " 373. 371. 383.  86.  82. 218.  88.  31. 397. 392. 405. 331. 367.  20.\n",
      "  83. 416.  51. 395. 102.  34.  84. 360. 394. 457. 382. 461. 478. 386.\n",
      " 112. 486. 421.   9. 308. 135. 224. 504. 269. 356. 498. 390. 513. 203.\n",
      " 263. 477. 521. 169. 515. 445. 337. 251. 428. 292. 388. 130. 250. 355.\n",
      " 254. 543. 531. 528.  62. 120.  42.  81. 116. 530. 103.  39.  16.  92.\n",
      "  61. 501. 165. 291. 290.  43. 325. 192. 108. 200. 465. 287. 297. 490.\n",
      " 482. 207. 282. 437. 225. 329. 272.  28.  77. 338.  72. 246. 319. 146.\n",
      " 159. 380. 323. 511. 407. 278.  80. 403. 399.  14. 137. 343. 346. 347.\n",
      " 349. 289. 351. 353.  54.  99. 358. 361. 362. 366. 372. 365. 277. 109.\n",
      " 377. 379.  22. 378. 330. 364. 401. 232. 255. 384. 167. 212. 514. 391.\n",
      " 400. 376. 402. 396. 302. 398.   6. 370. 369. 409. 168. 104. 408. 413.\n",
      " 148.  10. 333. 419. 415. 424. 425. 423. 422. 435. 439. 442. 448. 443.\n",
      " 454. 444.  52. 459. 458. 456. 460. 447. 470. 466. 484. 184. 485.  32.\n",
      " 487. 491. 494. 193. 516. 496. 499.  29.  78. 520. 507. 506. 512. 126.\n",
      "  64. 242. 518. 523. 539. 534. 436. 525. 541.  40. 455. 410.  45.  38.\n",
      "  49.  48.  67.  68.  65.  91.  37.   8. 179. 209. 219. 221. 227. 153.\n",
      " 186. 253. 202. 216. 275. 233. 280. 309. 321.  93. 316.  85. 107. 350.\n",
      " 279. 334. 348. 150.  73. 385. 418. 197. 450. 452. 115.  46.  76.  96.\n",
      " 100. 105. 101. 122.  11. 139. 142. 127. 143. 140. 149. 163. 160. 180.\n",
      " 238. 183. 222. 185. 217. 215. 213. 237. 230. 234.  35. 245. 158. 258.\n",
      " 259. 260. 411. 257. 271.  18. 106. 210. 273.  71. 284. 301. 305. 293.\n",
      " 264. 311. 304. 313. 288. 320. 314. 332. 341. 352. 243. 368. 393. 132.\n",
      " 220. 412. 420. 426. 417. 429. 433. 446. 357. 479. 483. 489. 229. 481.\n",
      " 497. 451. 492.]\n",
      "--------------------------------------------------\n",
      "Columna: days_in_waiting_list\n",
      "Valores únicos (128): [  0  50  47  65 122  75 101 150 125  14  60  34 100  22 121  61  39   5\n",
      "   1   8 107  43  52   2  11 142 116  13  44  97  83   4 113  18  20 185\n",
      "  93 109   6  37 105 154  64  99  38  48  33  77  21  80  59  40  58  89\n",
      "  53  49  69  87  91  57 111  79  98  85  63  15   3  41 224  31  56 187\n",
      " 176  71  55  96 236 259 207 215 160 120  30  32  27  62  24 108 147 379\n",
      "  70  35 178 330 223 174 162 391  68 193  10  76  16  28   9 165  17  25\n",
      "  46   7  84 175 183  23 117  12  54  26  73  45  19  42  72  81  92  74\n",
      " 167  36]\n",
      "--------------------------------------------------\n",
      "Columna: customer_type\n",
      "Valores únicos (4): ['Transient' 'Contract' 'Transient-Party' 'Group']\n",
      "--------------------------------------------------\n",
      "Columna: adr\n",
      "Valores únicos (8879): [  0.    75.    98.   ... 266.75 209.25 157.71]\n",
      "--------------------------------------------------\n",
      "Columna: required_car_parking_spaces\n",
      "Valores únicos (5): [0 1 2 8 3]\n",
      "--------------------------------------------------\n",
      "Columna: total_of_special_requests\n",
      "Valores únicos (6): [0 1 3 2 4 5]\n",
      "--------------------------------------------------\n",
      "Columna: reservation_status\n",
      "Valores únicos (3): ['Check-Out' 'Canceled' 'No-Show']\n",
      "--------------------------------------------------\n",
      "Columna: reservation_status_date\n",
      "Valores únicos (926): ['2015-07-01' '2015-07-02' '2015-07-03' '2015-05-06' '2015-04-22'\n",
      " '2015-06-23' '2015-07-05' '2015-07-06' '2015-07-07' '2015-07-08'\n",
      " '2015-05-11' '2015-07-15' '2015-07-16' '2015-05-29' '2015-05-19'\n",
      " '2015-06-19' '2015-05-23' '2015-05-18' '2015-07-09' '2015-06-02'\n",
      " '2015-07-13' '2015-07-04' '2015-06-29' '2015-06-16' '2015-06-18'\n",
      " '2015-06-12' '2015-06-09' '2015-05-26' '2015-07-11' '2015-07-12'\n",
      " '2015-07-17' '2015-04-15' '2015-05-13' '2015-07-10' '2015-05-20'\n",
      " '2015-05-12' '2015-07-14' '2015-06-17' '2015-05-01' '2015-03-30'\n",
      " '2015-07-19' '2015-06-03' '2015-06-26' '2015-05-14' '2015-07-20'\n",
      " '2015-05-07' '2015-05-28' '2015-04-13' '2015-03-25' '2015-07-21'\n",
      " '2015-06-27' '2015-07-18' '2015-07-23' '2015-06-08' '2015-06-22'\n",
      " '2015-06-24' '2015-03-05' '2015-06-01' '2015-04-24' '2015-07-22'\n",
      " '2015-05-27' '2015-04-06' '2015-04-11' '2015-07-25' '2015-07-28'\n",
      " '2015-07-29' '2015-06-25' '2015-07-24' '2015-06-05' '2015-06-30'\n",
      " '2015-06-13' '2015-06-11' '2015-07-30' '2015-07-27' '2015-04-29'\n",
      " '2015-06-04' '2015-07-26' '2015-08-01' '2015-08-02' '2015-06-15'\n",
      " '2015-04-23' '2015-07-31' '2015-05-25' '2015-08-03' '2015-04-17'\n",
      " '2015-08-04' '2015-08-06' '2015-05-15' '2015-05-09' '2015-03-17'\n",
      " '2015-05-22' '2015-08-07' '2015-04-04' '2015-08-05' '2015-08-08'\n",
      " '2015-08-10' '2015-05-04' '2015-06-06' '2015-08-09' '2015-08-15'\n",
      " '2015-08-11' '2015-03-28' '2015-08-14' '2015-08-12' '2015-08-16'\n",
      " '2015-05-16' '2015-08-21' '2015-08-13' '2015-08-17' '2015-04-20'\n",
      " '2015-08-18' '2015-08-23' '2015-08-22' '2015-08-19' '2015-08-20'\n",
      " '2015-08-29' '2015-03-31' '2015-05-30' '2015-08-25' '2015-04-14'\n",
      " '2015-08-24' '2015-03-24' '2015-05-21' '2015-08-28' '2015-08-26'\n",
      " '2015-08-27' '2015-08-30' '2015-08-31' '2015-09-06' '2015-09-03'\n",
      " '2015-09-04' '2015-09-02' '2015-09-01' '2015-09-05' '2015-06-20'\n",
      " '2015-09-07' '2015-09-10' '2015-09-11' '2015-09-08' '2015-09-09'\n",
      " '2015-09-13' '2015-09-15' '2015-04-10' '2015-01-02' '2014-11-18'\n",
      " '2015-09-12' '2015-09-17' '2015-09-14' '2015-04-07' '2015-09-19'\n",
      " '2015-09-16' '2015-09-20' '2015-01-18' '2015-10-23' '2015-01-22'\n",
      " '2015-01-01' '2015-09-22' '2015-09-24' '2015-09-18' '2015-09-21'\n",
      " '2015-09-30' '2015-09-25' '2015-09-27' '2015-09-28' '2015-10-12'\n",
      " '2015-09-29' '2015-09-23' '2015-10-01' '2015-09-26' '2015-04-18'\n",
      " '2015-10-02' '2015-10-04' '2015-10-08' '2015-10-03' '2015-10-07'\n",
      " '2015-10-09' '2015-10-11' '2015-10-05' '2015-10-06' '2015-10-10'\n",
      " '2015-10-14' '2015-10-15' '2015-10-18' '2015-10-13' '2015-10-20'\n",
      " '2015-10-19' '2015-10-31' '2015-10-16' '2015-10-21' '2015-10-22'\n",
      " '2015-10-17' '2015-10-24' '2015-10-25' '2015-10-28' '2015-10-27'\n",
      " '2015-10-26' '2015-10-30' '2015-11-05' '2015-10-29' '2015-11-03'\n",
      " '2015-11-07' '2015-11-04' '2015-11-01' '2015-11-02' '2015-11-17'\n",
      " '2015-11-06' '2015-11-10' '2015-11-08' '2015-11-09' '2015-11-15'\n",
      " '2015-11-16' '2015-11-11' '2015-11-12' '2015-11-14' '2015-11-13'\n",
      " '2015-11-18' '2015-11-22' '2015-11-19' '2015-11-21' '2015-11-20'\n",
      " '2015-11-24' '2015-11-25' '2015-11-23' '2015-11-28' '2015-11-26'\n",
      " '2015-11-27' '2015-11-29' '2015-12-04' '2015-12-01' '2015-12-06'\n",
      " '2015-12-08' '2015-12-02' '2015-12-03' '2015-12-31' '2015-12-05'\n",
      " '2015-12-10' '2015-12-17' '2015-11-30' '2015-12-12' '2015-12-07'\n",
      " '2016-01-05' '2015-12-11' '2015-12-13' '2015-12-15' '2015-12-16'\n",
      " '2015-12-19' '2015-12-18' '2015-12-26' '2015-12-27' '2015-12-22'\n",
      " '2015-12-23' '2015-12-24' '2015-12-29' '2015-12-28' '2015-12-20'\n",
      " '2015-12-30' '2016-01-02' '2016-01-01' '2015-12-25' '2016-01-03'\n",
      " '2016-01-04' '2016-01-11' '2016-01-07' '2015-12-21' '2016-01-09'\n",
      " '2016-01-10' '2016-01-08' '2016-01-06' '2016-01-12' '2016-01-13'\n",
      " '2016-01-23' '2016-02-09' '2016-01-15' '2016-01-16' '2016-01-17'\n",
      " '2016-01-19' '2016-01-18' '2016-01-21' '2016-01-24' '2016-01-22'\n",
      " '2016-01-29' '2016-01-27' '2016-01-25' '2016-03-08' '2016-01-26'\n",
      " '2016-01-20' '2016-01-30' '2016-02-01' '2016-02-02' '2016-02-08'\n",
      " '2016-02-07' '2016-01-28' '2016-02-05' '2016-02-03' '2016-02-13'\n",
      " '2016-02-10' '2016-02-04' '2016-02-12' '2016-02-11' '2016-02-16'\n",
      " '2016-02-14' '2016-02-15' '2016-02-20' '2016-02-06' '2016-01-14'\n",
      " '2016-02-17' '2016-02-21' '2016-02-24' '2016-02-25' '2016-02-19'\n",
      " '2016-02-18' '2016-02-26' '2016-02-23' '2016-03-05' '2016-02-22'\n",
      " '2016-02-27' '2016-03-03' '2016-03-24' '2016-03-04' '2016-02-29'\n",
      " '2016-03-01' '2016-03-02' '2016-03-30' '2016-03-07' '2016-03-14'\n",
      " '2016-03-21' '2016-03-09' '2016-03-12' '2016-03-22' '2016-03-10'\n",
      " '2016-03-11' '2016-03-20' '2016-03-15' '2016-03-17' '2016-03-16'\n",
      " '2016-03-19' '2016-03-27' '2016-03-18' '2016-03-26' '2016-03-31'\n",
      " '2016-03-28' '2016-03-29' '2016-04-01' '2016-03-23' '2016-04-02'\n",
      " '2016-03-25' '2016-03-13' '2016-04-04' '2016-04-03' '2016-04-05'\n",
      " '2016-04-08' '2016-04-06' '2016-04-09' '2016-04-12' '2016-04-16'\n",
      " '2016-04-17' '2016-04-27' '2016-04-14' '2016-04-18' '2016-04-21'\n",
      " '2016-04-19' '2016-04-20' '2016-04-10' '2016-04-13' '2016-04-11'\n",
      " '2016-04-07' '2016-04-15' '2016-04-22' '2016-04-23' '2016-04-26'\n",
      " '2016-04-28' '2016-04-24' '2016-04-25' '2016-04-29' '2016-04-30'\n",
      " '2016-05-01' '2016-05-10' '2016-05-02' '2016-05-07' '2016-05-08'\n",
      " '2016-05-12' '2016-05-04' '2016-05-06' '2016-05-03' '2016-05-09'\n",
      " '2016-05-05' '2016-05-13' '2016-05-14' '2016-05-18' '2016-05-19'\n",
      " '2016-05-15' '2016-05-16' '2016-05-11' '2016-05-21' '2016-05-22'\n",
      " '2016-05-20' '2016-05-24' '2016-05-25' '2016-05-26' '2016-05-23'\n",
      " '2016-05-27' '2016-05-17' '2016-05-29' '2016-05-28' '2016-05-30'\n",
      " '2016-05-31' '2016-06-01' '2016-06-03' '2016-06-08' '2016-06-02'\n",
      " '2016-06-05' '2016-06-06' '2016-06-13' '2016-06-07' '2016-06-10'\n",
      " '2016-06-11' '2016-06-16' '2016-06-12' '2016-06-14' '2016-06-17'\n",
      " '2016-06-04' '2016-06-18' '2016-06-21' '2016-06-09' '2016-06-24'\n",
      " '2016-06-20' '2016-06-25' '2016-06-22' '2016-06-26' '2016-06-23'\n",
      " '2016-07-01' '2016-06-15' '2016-06-28' '2016-07-02' '2016-06-19'\n",
      " '2016-06-27' '2016-07-04' '2016-06-30' '2016-07-05' '2016-07-08'\n",
      " '2016-07-09' '2016-07-07' '2016-07-12' '2016-06-29' '2016-07-10'\n",
      " '2016-07-15' '2016-07-03' '2016-07-16' '2016-07-14' '2016-07-18'\n",
      " '2016-07-13' '2016-07-06' '2016-07-20' '2016-07-21' '2016-07-23'\n",
      " '2016-07-19' '2016-07-11' '2016-07-28' '2016-07-17' '2016-07-25'\n",
      " '2016-07-22' '2016-07-29' '2016-08-03' '2016-08-02' '2016-08-04'\n",
      " '2016-08-08' '2016-08-10' '2016-08-01' '2016-08-06' '2016-03-06'\n",
      " '2016-08-05' '2016-07-26' '2016-08-07' '2016-07-30' '2016-07-24'\n",
      " '2016-08-12' '2016-07-27' '2016-08-13' '2016-08-18' '2016-08-16'\n",
      " '2016-08-15' '2016-08-17' '2016-08-11' '2016-07-31' '2016-08-19'\n",
      " '2016-09-01' '2016-08-23' '2016-08-26' '2016-08-20' '2016-08-21'\n",
      " '2016-09-04' '2016-08-22' '2016-08-27' '2016-08-25' '2016-08-09'\n",
      " '2016-09-05' '2016-08-24' '2016-09-10' '2016-08-29' '2016-09-09'\n",
      " '2016-08-30' '2016-09-13' '2016-08-31' '2016-09-14' '2016-09-12'\n",
      " '2016-09-15' '2016-08-14' '2016-09-02' '2016-09-08' '2016-09-19'\n",
      " '2016-09-16' '2016-09-07' '2016-09-21' '2016-09-06' '2016-09-22'\n",
      " '2016-09-17' '2016-09-20' '2016-09-03' '2016-09-26' '2016-09-23'\n",
      " '2016-09-18' '2016-09-29' '2016-10-02' '2016-10-01' '2016-09-27'\n",
      " '2016-09-25' '2016-10-05' '2016-09-11' '2016-09-30' '2016-10-09'\n",
      " '2016-10-03' '2016-10-06' '2016-10-11' '2016-09-24' '2016-10-13'\n",
      " '2016-09-28' '2016-10-08' '2016-10-07' '2016-10-16' '2016-08-28'\n",
      " '2016-10-17' '2016-10-18' '2016-10-10' '2016-10-04' '2016-10-15'\n",
      " '2016-10-19' '2016-10-21' '2016-10-12' '2016-10-24' '2016-10-26'\n",
      " '2016-10-23' '2016-10-20' '2016-10-25' '2016-10-27' '2016-10-28'\n",
      " '2016-10-30' '2016-10-29' '2016-11-01' '2016-11-04' '2016-10-14'\n",
      " '2016-11-07' '2016-11-03' '2016-11-10' '2016-11-14' '2016-11-02'\n",
      " '2016-10-31' '2016-11-11' '2016-11-08' '2016-11-05' '2016-11-25'\n",
      " '2016-11-09' '2016-11-20' '2016-11-21' '2016-10-22' '2016-11-22'\n",
      " '2016-11-16' '2016-11-23' '2016-11-17' '2016-11-06' '2016-11-15'\n",
      " '2016-11-13' '2016-11-12' '2016-11-27' '2016-11-19' '2016-11-30'\n",
      " '2016-11-18' '2016-12-02' '2016-12-04' '2016-11-29' '2016-12-07'\n",
      " '2016-11-28' '2016-12-03' '2016-12-06' '2016-11-24' '2016-12-08'\n",
      " '2016-12-05' '2016-12-10' '2016-12-13' '2016-12-14' '2016-12-16'\n",
      " '2016-12-15' '2016-12-17' '2016-12-19' '2016-12-21' '2016-12-20'\n",
      " '2016-12-22' '2016-12-23' '2016-12-24' '2016-12-01' '2016-12-27'\n",
      " '2016-12-29' '2016-12-30' '2016-12-12' '2017-01-02' '2016-12-11'\n",
      " '2017-01-03' '2017-01-04' '2017-01-01' '2016-12-26' '2017-01-06'\n",
      " '2016-12-28' '2016-12-18' '2017-01-10' '2017-01-11' '2017-01-07'\n",
      " '2017-01-12' '2017-01-16' '2017-01-14' '2017-01-13' '2017-01-05'\n",
      " '2017-01-17' '2017-01-20' '2016-12-09' '2017-01-26' '2016-12-31'\n",
      " '2017-01-23' '2017-01-27' '2017-01-28' '2017-01-19' '2017-01-25'\n",
      " '2017-01-24' '2017-01-29' '2017-01-18' '2016-12-25' '2017-01-15'\n",
      " '2017-01-21' '2017-02-01' '2017-02-02' '2017-01-31' '2017-02-03'\n",
      " '2017-02-04' '2017-02-06' '2017-02-07' '2017-02-08' '2017-01-30'\n",
      " '2017-02-09' '2017-01-09' '2017-02-11' '2017-02-10' '2017-02-12'\n",
      " '2017-02-13' '2017-02-14' '2017-02-16' '2017-02-17' '2017-02-18'\n",
      " '2017-02-19' '2017-02-20' '2017-02-15' '2017-02-21' '2017-02-22'\n",
      " '2017-02-26' '2017-02-23' '2017-02-24' '2017-02-25' '2017-02-28'\n",
      " '2017-03-05' '2017-02-27' '2017-03-03' '2017-03-06' '2017-03-02'\n",
      " '2017-03-08' '2017-03-09' '2017-03-10' '2017-03-07' '2017-03-12'\n",
      " '2017-03-13' '2017-03-14' '2017-03-01' '2017-03-18' '2017-03-17'\n",
      " '2017-03-24' '2017-03-22' '2017-03-26' '2017-03-27' '2017-03-11'\n",
      " '2017-03-28' '2017-03-29' '2017-03-30' '2017-03-31' '2017-03-19'\n",
      " '2017-01-22' '2017-04-02' '2017-03-20' '2017-04-03' '2017-01-08'\n",
      " '2017-03-23' '2017-04-05' '2017-02-05' '2017-04-04' '2017-03-15'\n",
      " '2017-04-07' '2017-03-25' '2017-04-08' '2017-04-06' '2017-03-21'\n",
      " '2017-04-10' '2017-04-01' '2017-04-11' '2017-04-13' '2017-04-15'\n",
      " '2017-04-12' '2017-03-04' '2017-04-19' '2017-04-22' '2017-04-20'\n",
      " '2017-05-02' '2017-04-09' '2017-04-23' '2017-04-24' '2017-04-16'\n",
      " '2017-04-28' '2017-04-18' '2017-04-26' '2017-04-25' '2017-04-17'\n",
      " '2017-04-21' '2017-05-03' '2017-05-04' '2017-03-16' '2017-05-05'\n",
      " '2017-04-29' '2017-04-14' '2017-05-08' '2017-04-27' '2017-05-11'\n",
      " '2017-05-01' '2017-05-10' '2017-05-13' '2017-05-06' '2017-05-14'\n",
      " '2017-05-16' '2017-04-30' '2017-05-15' '2017-05-07' '2017-05-09'\n",
      " '2017-05-17' '2017-05-21' '2017-05-12' '2017-05-22' '2017-05-24'\n",
      " '2017-05-23' '2017-05-25' '2017-05-26' '2017-05-28' '2017-05-27'\n",
      " '2017-05-29' '2017-05-19' '2017-05-31' '2017-05-20' '2017-06-01'\n",
      " '2017-05-30' '2017-06-02' '2016-11-26' '2017-06-04' '2017-06-05'\n",
      " '2017-06-06' '2017-06-07' '2017-05-18' '2017-06-09' '2017-06-10'\n",
      " '2017-06-11' '2017-06-12' '2017-06-14' '2017-06-08' '2017-06-16'\n",
      " '2017-06-13' '2017-06-03' '2017-06-24' '2017-06-20' '2017-06-19'\n",
      " '2017-06-21' '2017-06-26' '2017-06-27' '2017-06-22' '2017-06-28'\n",
      " '2017-06-15' '2017-06-29' '2017-06-30' '2017-06-18' '2017-07-04'\n",
      " '2017-07-08' '2017-07-05' '2017-07-03' '2017-07-07' '2017-07-01'\n",
      " '2017-07-06' '2017-07-11' '2017-07-12' '2017-06-23' '2017-07-13'\n",
      " '2017-07-02' '2017-07-10' '2017-07-14' '2017-07-15' '2017-07-16'\n",
      " '2017-07-18' '2017-07-17' '2017-07-19' '2017-07-20' '2017-07-21'\n",
      " '2017-06-25' '2017-06-17' '2017-07-24' '2017-07-26' '2017-07-09'\n",
      " '2017-07-27' '2017-07-28' '2017-07-31' '2017-07-29' '2017-07-22'\n",
      " '2017-08-02' '2017-08-01' '2017-08-03' '2017-08-04' '2017-07-25'\n",
      " '2017-07-23' '2017-08-09' '2017-08-10' '2017-07-30' '2017-08-07'\n",
      " '2017-08-13' '2017-08-05' '2017-08-14' '2017-08-08' '2017-08-16'\n",
      " '2017-08-17' '2017-08-15' '2017-08-18' '2017-08-20' '2017-08-22'\n",
      " '2017-08-06' '2017-08-25' '2017-08-26' '2017-08-23' '2017-08-11'\n",
      " '2017-08-27' '2017-08-21' '2017-08-29' '2017-08-31' '2017-08-12'\n",
      " '2017-08-19' '2016-01-31' '2017-09-01' '2017-08-28' '2015-04-03'\n",
      " '2015-01-21' '2015-01-28' '2015-01-29' '2015-01-30' '2015-02-02'\n",
      " '2015-02-05' '2015-02-06' '2015-02-09' '2015-02-10' '2015-02-11'\n",
      " '2015-02-12' '2015-02-19' '2015-02-20' '2015-02-23' '2015-02-24'\n",
      " '2015-02-25' '2015-02-26' '2015-02-27' '2015-03-03' '2015-03-04'\n",
      " '2015-03-06' '2015-03-09' '2015-03-11' '2015-03-12' '2015-03-18'\n",
      " '2015-04-02' '2015-06-14' '2015-04-08' '2015-04-16' '2015-04-25'\n",
      " '2015-04-28' '2015-05-08' '2017-09-06' '2016-02-28' '2015-12-09'\n",
      " '2015-12-14' '2017-09-09' '2017-09-02' '2017-08-24' '2017-08-30'\n",
      " '2017-09-03' '2017-09-04' '2017-09-05' '2017-09-07' '2017-09-08'\n",
      " '2017-09-10' '2017-09-12' '2017-09-14' '2015-04-30' '2015-04-21'\n",
      " '2015-04-05' '2015-03-13' '2015-05-05' '2015-03-29' '2015-06-10'\n",
      " '2015-04-27' '2014-10-17' '2015-01-20' '2015-02-17' '2015-03-10'\n",
      " '2015-03-23']\n",
      "--------------------------------------------------\n"
     ]
    }
   ],
   "source": [
    "# Mostrar los valores únicos de cada columna\n",
    "for column in df.columns:\n",
    "    unique_values = df[column].unique()\n",
    "    print(f\"Columna: {column}\")\n",
    "    print(f\"Valores únicos ({len(unique_values)}): {unique_values}\")\n",
    "    print(\"-\" * 50)"
   ]
  },
  {
   "cell_type": "markdown",
   "id": "6cf2f9a8",
   "metadata": {
    "id": "6cf2f9a8"
   },
   "source": [
    "#### Clasificación de variables en nominal, ordinal y continuo:\n",
    "\n",
    "- hotel: Nominal\n",
    "- is_canceled: Nominal\n",
    "- lead_time: Continua\n",
    "- arrival_date_year: Nominal\n",
    "- arrival_date_month: Nominal\n",
    "- arrival_date_week_number: Nominal\n",
    "- arrival_date_day_of_month: Nominal\n",
    "- stays_in_weekend_nights: Continua\n",
    "- stays_in_week_nights: Continua\n",
    "- adults: Continua\n",
    "- children: Continua\n",
    "- babies: Continua\n",
    "- meal: Nominal\n",
    "- country: Nominal\n",
    "- market_segment: Nominal\n",
    "- distribution_channel: Nominal\n",
    "- is_repeated_guest: Nominal\n",
    "- previous_cancellations: Continua\n",
    "- previous_bookings_not_canceled: Continua\n",
    "- reserved_room_type: Nominal\n",
    "- assigned_room_type: Nominal\n",
    "- booking_changes: Continua\n",
    "- deposit_type: Nominal\n",
    "- agent: Nominal\n",
    "- company: Nominal\n",
    "- days_in_waiting_list: Continua\n",
    "- customer_type: Nominal\n",
    "- adr: Continua\n",
    "- required_car_parking_spaces: Continua\n",
    "- total_of_special_requests: Continua\n",
    "- reservation_status: Nominal\n",
    "- reservation_status_date: Fecha"
   ]
  },
  {
   "cell_type": "markdown",
   "id": "6a7c5500-ed04-4b27-94ce-d06096e88dc7",
   "metadata": {
    "id": "6a7c5500-ed04-4b27-94ce-d06096e88dc7"
   },
   "source": [
    "#### 1.4 Elimine todas las columnas con 30% o más de valores ausentes"
   ]
  },
  {
   "cell_type": "markdown",
   "id": "af6322ad",
   "metadata": {
    "id": "af6322ad"
   },
   "source": [
    "#### Identificamos:"
   ]
  },
  {
   "cell_type": "code",
   "execution_count": 6,
   "id": "2756881c-f7f7-456d-bc5b-9565a70aa0ce",
   "metadata": {
    "colab": {
     "base_uri": "https://localhost:8080/"
    },
    "executionInfo": {
     "elapsed": 59,
     "status": "ok",
     "timestamp": 1729310143243,
     "user": {
      "displayName": "cindi elizondo marin",
      "userId": "00194596993511553788"
     },
     "user_tz": 180
    },
    "id": "2756881c-f7f7-456d-bc5b-9565a70aa0ce",
    "outputId": "693ae0d0-390b-4f0f-c17e-a69a1f4d3d89"
   },
   "outputs": [
    {
     "name": "stdout",
     "output_type": "stream",
     "text": [
      "hotel                              0.000000\n",
      "is_canceled                        0.000000\n",
      "lead_time                          0.000000\n",
      "arrival_date_year                  0.000000\n",
      "arrival_date_month                 0.000000\n",
      "arrival_date_week_number           0.000000\n",
      "arrival_date_day_of_month          0.000000\n",
      "stays_in_weekend_nights            0.000000\n",
      "stays_in_week_nights               0.000000\n",
      "adults                             0.000000\n",
      "children                           0.003350\n",
      "babies                             0.000000\n",
      "meal                               0.000000\n",
      "country                            0.408744\n",
      "market_segment                     0.000000\n",
      "distribution_channel               0.000000\n",
      "is_repeated_guest                  0.000000\n",
      "previous_cancellations             0.000000\n",
      "previous_bookings_not_canceled     0.000000\n",
      "reserved_room_type                 0.000000\n",
      "assigned_room_type                 0.000000\n",
      "booking_changes                    0.000000\n",
      "deposit_type                       0.000000\n",
      "agent                             13.686238\n",
      "company                           94.306893\n",
      "days_in_waiting_list               0.000000\n",
      "customer_type                      0.000000\n",
      "adr                                0.000000\n",
      "required_car_parking_spaces        0.000000\n",
      "total_of_special_requests          0.000000\n",
      "reservation_status                 0.000000\n",
      "reservation_status_date            0.000000\n",
      "dtype: float64\n",
      "Columnas con más del 30% de valores ausentes: ['company']\n"
     ]
    }
   ],
   "source": [
    "# Calcular el porcentaje de valores ausentes para cada columna\n",
    "percent_missing = df.isnull().sum() * 100 / len(df)\n",
    "\n",
    "# Mostrar el porcentaje de valores ausentes de cada columna\n",
    "print(percent_missing)\n",
    "\n",
    "threshold_na = len(df) * 0.30  # Definir el umbral del 30%\n",
    "cols_with_many_nas = df.columns[df.isnull().sum() >= threshold_na]  # Identificar columnas\n",
    "\n",
    "# Mostrar las columnas que serán eliminadas\n",
    "print(f\"Columnas con más del 30% de valores ausentes: {cols_with_many_nas.tolist()}\")"
   ]
  },
  {
   "cell_type": "markdown",
   "id": "a9b76285",
   "metadata": {
    "id": "a9b76285"
   },
   "source": [
    "#### Eliminamos:"
   ]
  },
  {
   "cell_type": "code",
   "execution_count": 7,
   "id": "d5cefda3",
   "metadata": {
    "colab": {
     "base_uri": "https://localhost:8080/",
     "height": 342
    },
    "executionInfo": {
     "elapsed": 30,
     "status": "ok",
     "timestamp": 1729310143243,
     "user": {
      "displayName": "cindi elizondo marin",
      "userId": "00194596993511553788"
     },
     "user_tz": 180
    },
    "id": "d5cefda3",
    "outputId": "b89eab35-03f3-4ee7-829f-d3ef7d31ab25"
   },
   "outputs": [
    {
     "data": {
      "text/html": [
       "<div>\n",
       "<style scoped>\n",
       "    .dataframe tbody tr th:only-of-type {\n",
       "        vertical-align: middle;\n",
       "    }\n",
       "\n",
       "    .dataframe tbody tr th {\n",
       "        vertical-align: top;\n",
       "    }\n",
       "\n",
       "    .dataframe thead th {\n",
       "        text-align: right;\n",
       "    }\n",
       "</style>\n",
       "<table border=\"1\" class=\"dataframe\">\n",
       "  <thead>\n",
       "    <tr style=\"text-align: right;\">\n",
       "      <th></th>\n",
       "      <th>hotel</th>\n",
       "      <th>is_canceled</th>\n",
       "      <th>lead_time</th>\n",
       "      <th>arrival_date_year</th>\n",
       "      <th>arrival_date_month</th>\n",
       "      <th>arrival_date_week_number</th>\n",
       "      <th>arrival_date_day_of_month</th>\n",
       "      <th>stays_in_weekend_nights</th>\n",
       "      <th>stays_in_week_nights</th>\n",
       "      <th>adults</th>\n",
       "      <th>...</th>\n",
       "      <th>booking_changes</th>\n",
       "      <th>deposit_type</th>\n",
       "      <th>agent</th>\n",
       "      <th>days_in_waiting_list</th>\n",
       "      <th>customer_type</th>\n",
       "      <th>adr</th>\n",
       "      <th>required_car_parking_spaces</th>\n",
       "      <th>total_of_special_requests</th>\n",
       "      <th>reservation_status</th>\n",
       "      <th>reservation_status_date</th>\n",
       "    </tr>\n",
       "  </thead>\n",
       "  <tbody>\n",
       "    <tr>\n",
       "      <th>0</th>\n",
       "      <td>Resort Hotel</td>\n",
       "      <td>0</td>\n",
       "      <td>342</td>\n",
       "      <td>2015</td>\n",
       "      <td>July</td>\n",
       "      <td>27</td>\n",
       "      <td>1</td>\n",
       "      <td>0</td>\n",
       "      <td>0</td>\n",
       "      <td>2</td>\n",
       "      <td>...</td>\n",
       "      <td>3</td>\n",
       "      <td>No Deposit</td>\n",
       "      <td>NaN</td>\n",
       "      <td>0</td>\n",
       "      <td>Transient</td>\n",
       "      <td>0.0</td>\n",
       "      <td>0</td>\n",
       "      <td>0</td>\n",
       "      <td>Check-Out</td>\n",
       "      <td>2015-07-01</td>\n",
       "    </tr>\n",
       "    <tr>\n",
       "      <th>1</th>\n",
       "      <td>Resort Hotel</td>\n",
       "      <td>0</td>\n",
       "      <td>737</td>\n",
       "      <td>2015</td>\n",
       "      <td>July</td>\n",
       "      <td>27</td>\n",
       "      <td>1</td>\n",
       "      <td>0</td>\n",
       "      <td>0</td>\n",
       "      <td>2</td>\n",
       "      <td>...</td>\n",
       "      <td>4</td>\n",
       "      <td>No Deposit</td>\n",
       "      <td>NaN</td>\n",
       "      <td>0</td>\n",
       "      <td>Transient</td>\n",
       "      <td>0.0</td>\n",
       "      <td>0</td>\n",
       "      <td>0</td>\n",
       "      <td>Check-Out</td>\n",
       "      <td>2015-07-01</td>\n",
       "    </tr>\n",
       "    <tr>\n",
       "      <th>2</th>\n",
       "      <td>Resort Hotel</td>\n",
       "      <td>0</td>\n",
       "      <td>7</td>\n",
       "      <td>2015</td>\n",
       "      <td>July</td>\n",
       "      <td>27</td>\n",
       "      <td>1</td>\n",
       "      <td>0</td>\n",
       "      <td>1</td>\n",
       "      <td>1</td>\n",
       "      <td>...</td>\n",
       "      <td>0</td>\n",
       "      <td>No Deposit</td>\n",
       "      <td>NaN</td>\n",
       "      <td>0</td>\n",
       "      <td>Transient</td>\n",
       "      <td>75.0</td>\n",
       "      <td>0</td>\n",
       "      <td>0</td>\n",
       "      <td>Check-Out</td>\n",
       "      <td>2015-07-02</td>\n",
       "    </tr>\n",
       "    <tr>\n",
       "      <th>3</th>\n",
       "      <td>Resort Hotel</td>\n",
       "      <td>0</td>\n",
       "      <td>13</td>\n",
       "      <td>2015</td>\n",
       "      <td>July</td>\n",
       "      <td>27</td>\n",
       "      <td>1</td>\n",
       "      <td>0</td>\n",
       "      <td>1</td>\n",
       "      <td>1</td>\n",
       "      <td>...</td>\n",
       "      <td>0</td>\n",
       "      <td>No Deposit</td>\n",
       "      <td>304.0</td>\n",
       "      <td>0</td>\n",
       "      <td>Transient</td>\n",
       "      <td>75.0</td>\n",
       "      <td>0</td>\n",
       "      <td>0</td>\n",
       "      <td>Check-Out</td>\n",
       "      <td>2015-07-02</td>\n",
       "    </tr>\n",
       "    <tr>\n",
       "      <th>4</th>\n",
       "      <td>Resort Hotel</td>\n",
       "      <td>0</td>\n",
       "      <td>14</td>\n",
       "      <td>2015</td>\n",
       "      <td>July</td>\n",
       "      <td>27</td>\n",
       "      <td>1</td>\n",
       "      <td>0</td>\n",
       "      <td>2</td>\n",
       "      <td>2</td>\n",
       "      <td>...</td>\n",
       "      <td>0</td>\n",
       "      <td>No Deposit</td>\n",
       "      <td>240.0</td>\n",
       "      <td>0</td>\n",
       "      <td>Transient</td>\n",
       "      <td>98.0</td>\n",
       "      <td>0</td>\n",
       "      <td>1</td>\n",
       "      <td>Check-Out</td>\n",
       "      <td>2015-07-03</td>\n",
       "    </tr>\n",
       "  </tbody>\n",
       "</table>\n",
       "<p>5 rows × 31 columns</p>\n",
       "</div>"
      ],
      "text/plain": [
       "          hotel  is_canceled  lead_time  arrival_date_year arrival_date_month  \\\n",
       "0  Resort Hotel            0        342               2015               July   \n",
       "1  Resort Hotel            0        737               2015               July   \n",
       "2  Resort Hotel            0          7               2015               July   \n",
       "3  Resort Hotel            0         13               2015               July   \n",
       "4  Resort Hotel            0         14               2015               July   \n",
       "\n",
       "   arrival_date_week_number  arrival_date_day_of_month  \\\n",
       "0                        27                          1   \n",
       "1                        27                          1   \n",
       "2                        27                          1   \n",
       "3                        27                          1   \n",
       "4                        27                          1   \n",
       "\n",
       "   stays_in_weekend_nights  stays_in_week_nights  adults  ...  \\\n",
       "0                        0                     0       2  ...   \n",
       "1                        0                     0       2  ...   \n",
       "2                        0                     1       1  ...   \n",
       "3                        0                     1       1  ...   \n",
       "4                        0                     2       2  ...   \n",
       "\n",
       "   booking_changes  deposit_type  agent days_in_waiting_list customer_type  \\\n",
       "0                3    No Deposit    NaN                    0     Transient   \n",
       "1                4    No Deposit    NaN                    0     Transient   \n",
       "2                0    No Deposit    NaN                    0     Transient   \n",
       "3                0    No Deposit  304.0                    0     Transient   \n",
       "4                0    No Deposit  240.0                    0     Transient   \n",
       "\n",
       "    adr  required_car_parking_spaces  total_of_special_requests  \\\n",
       "0   0.0                            0                          0   \n",
       "1   0.0                            0                          0   \n",
       "2  75.0                            0                          0   \n",
       "3  75.0                            0                          0   \n",
       "4  98.0                            0                          1   \n",
       "\n",
       "   reservation_status reservation_status_date  \n",
       "0           Check-Out              2015-07-01  \n",
       "1           Check-Out              2015-07-01  \n",
       "2           Check-Out              2015-07-02  \n",
       "3           Check-Out              2015-07-02  \n",
       "4           Check-Out              2015-07-03  \n",
       "\n",
       "[5 rows x 31 columns]"
      ]
     },
     "execution_count": 7,
     "metadata": {},
     "output_type": "execute_result"
    }
   ],
   "source": [
    "# Eliminar esas columnas del DataFrame:\n",
    "df = df.drop(columns=cols_with_many_nas)\n",
    "\n",
    "# Mostrar el DataFrame actualizado\n",
    "df.head()"
   ]
  },
  {
   "cell_type": "markdown",
   "id": "6842e30a-0f3d-4ad2-b90f-378fe0d64aa1",
   "metadata": {
    "id": "6842e30a-0f3d-4ad2-b90f-378fe0d64aa1"
   },
   "source": [
    "#### 1.5 Eliminar todas las columnas con cantidad de categorías mayores al 50% del total de datos originales"
   ]
  },
  {
   "cell_type": "markdown",
   "id": "754114f6",
   "metadata": {
    "id": "754114f6"
   },
   "source": [
    "#### Identificamos:"
   ]
  },
  {
   "cell_type": "code",
   "execution_count": 8,
   "id": "9a941ba1",
   "metadata": {
    "colab": {
     "base_uri": "https://localhost:8080/"
    },
    "executionInfo": {
     "elapsed": 30,
     "status": "ok",
     "timestamp": 1729310143244,
     "user": {
      "displayName": "cindi elizondo marin",
      "userId": "00194596993511553788"
     },
     "user_tz": 180
    },
    "id": "9a941ba1",
    "outputId": "f91e3fa9-5365-44b3-9b87-95c30b7cf4a0"
   },
   "outputs": [
    {
     "name": "stdout",
     "output_type": "stream",
     "text": [
      "Columnas con más del 50% de categorías únicas: []\n"
     ]
    }
   ],
   "source": [
    "# Identificar las columnas donde más del 50% de los valores son únicos\n",
    "cols_with_many_categories = [col for col in df.columns if df[col].nunique() > len(df) * 0.50]\n",
    "\n",
    "# Mostrar las columnas que serán eliminadas\n",
    "print(f\"Columnas con más del 50% de categorías únicas: {cols_with_many_categories}\")"
   ]
  },
  {
   "cell_type": "markdown",
   "id": "43f562a7",
   "metadata": {
    "id": "43f562a7"
   },
   "source": [
    "Podemos apreciar que no existen columnas que cumplen con la segunda condición, sin embargo mostraremos de todas formas como eventualmente eliminarlas:"
   ]
  },
  {
   "cell_type": "code",
   "execution_count": 9,
   "id": "2c977e7e",
   "metadata": {
    "colab": {
     "base_uri": "https://localhost:8080/",
     "height": 342
    },
    "executionInfo": {
     "elapsed": 25,
     "status": "ok",
     "timestamp": 1729310143244,
     "user": {
      "displayName": "cindi elizondo marin",
      "userId": "00194596993511553788"
     },
     "user_tz": 180
    },
    "id": "2c977e7e",
    "outputId": "d1935c28-1d85-4349-c6af-4644a4c33a9c"
   },
   "outputs": [
    {
     "data": {
      "text/html": [
       "<div>\n",
       "<style scoped>\n",
       "    .dataframe tbody tr th:only-of-type {\n",
       "        vertical-align: middle;\n",
       "    }\n",
       "\n",
       "    .dataframe tbody tr th {\n",
       "        vertical-align: top;\n",
       "    }\n",
       "\n",
       "    .dataframe thead th {\n",
       "        text-align: right;\n",
       "    }\n",
       "</style>\n",
       "<table border=\"1\" class=\"dataframe\">\n",
       "  <thead>\n",
       "    <tr style=\"text-align: right;\">\n",
       "      <th></th>\n",
       "      <th>hotel</th>\n",
       "      <th>is_canceled</th>\n",
       "      <th>lead_time</th>\n",
       "      <th>arrival_date_year</th>\n",
       "      <th>arrival_date_month</th>\n",
       "      <th>arrival_date_week_number</th>\n",
       "      <th>arrival_date_day_of_month</th>\n",
       "      <th>stays_in_weekend_nights</th>\n",
       "      <th>stays_in_week_nights</th>\n",
       "      <th>adults</th>\n",
       "      <th>...</th>\n",
       "      <th>booking_changes</th>\n",
       "      <th>deposit_type</th>\n",
       "      <th>agent</th>\n",
       "      <th>days_in_waiting_list</th>\n",
       "      <th>customer_type</th>\n",
       "      <th>adr</th>\n",
       "      <th>required_car_parking_spaces</th>\n",
       "      <th>total_of_special_requests</th>\n",
       "      <th>reservation_status</th>\n",
       "      <th>reservation_status_date</th>\n",
       "    </tr>\n",
       "  </thead>\n",
       "  <tbody>\n",
       "    <tr>\n",
       "      <th>0</th>\n",
       "      <td>Resort Hotel</td>\n",
       "      <td>0</td>\n",
       "      <td>342</td>\n",
       "      <td>2015</td>\n",
       "      <td>July</td>\n",
       "      <td>27</td>\n",
       "      <td>1</td>\n",
       "      <td>0</td>\n",
       "      <td>0</td>\n",
       "      <td>2</td>\n",
       "      <td>...</td>\n",
       "      <td>3</td>\n",
       "      <td>No Deposit</td>\n",
       "      <td>NaN</td>\n",
       "      <td>0</td>\n",
       "      <td>Transient</td>\n",
       "      <td>0.0</td>\n",
       "      <td>0</td>\n",
       "      <td>0</td>\n",
       "      <td>Check-Out</td>\n",
       "      <td>2015-07-01</td>\n",
       "    </tr>\n",
       "    <tr>\n",
       "      <th>1</th>\n",
       "      <td>Resort Hotel</td>\n",
       "      <td>0</td>\n",
       "      <td>737</td>\n",
       "      <td>2015</td>\n",
       "      <td>July</td>\n",
       "      <td>27</td>\n",
       "      <td>1</td>\n",
       "      <td>0</td>\n",
       "      <td>0</td>\n",
       "      <td>2</td>\n",
       "      <td>...</td>\n",
       "      <td>4</td>\n",
       "      <td>No Deposit</td>\n",
       "      <td>NaN</td>\n",
       "      <td>0</td>\n",
       "      <td>Transient</td>\n",
       "      <td>0.0</td>\n",
       "      <td>0</td>\n",
       "      <td>0</td>\n",
       "      <td>Check-Out</td>\n",
       "      <td>2015-07-01</td>\n",
       "    </tr>\n",
       "    <tr>\n",
       "      <th>2</th>\n",
       "      <td>Resort Hotel</td>\n",
       "      <td>0</td>\n",
       "      <td>7</td>\n",
       "      <td>2015</td>\n",
       "      <td>July</td>\n",
       "      <td>27</td>\n",
       "      <td>1</td>\n",
       "      <td>0</td>\n",
       "      <td>1</td>\n",
       "      <td>1</td>\n",
       "      <td>...</td>\n",
       "      <td>0</td>\n",
       "      <td>No Deposit</td>\n",
       "      <td>NaN</td>\n",
       "      <td>0</td>\n",
       "      <td>Transient</td>\n",
       "      <td>75.0</td>\n",
       "      <td>0</td>\n",
       "      <td>0</td>\n",
       "      <td>Check-Out</td>\n",
       "      <td>2015-07-02</td>\n",
       "    </tr>\n",
       "    <tr>\n",
       "      <th>3</th>\n",
       "      <td>Resort Hotel</td>\n",
       "      <td>0</td>\n",
       "      <td>13</td>\n",
       "      <td>2015</td>\n",
       "      <td>July</td>\n",
       "      <td>27</td>\n",
       "      <td>1</td>\n",
       "      <td>0</td>\n",
       "      <td>1</td>\n",
       "      <td>1</td>\n",
       "      <td>...</td>\n",
       "      <td>0</td>\n",
       "      <td>No Deposit</td>\n",
       "      <td>304.0</td>\n",
       "      <td>0</td>\n",
       "      <td>Transient</td>\n",
       "      <td>75.0</td>\n",
       "      <td>0</td>\n",
       "      <td>0</td>\n",
       "      <td>Check-Out</td>\n",
       "      <td>2015-07-02</td>\n",
       "    </tr>\n",
       "    <tr>\n",
       "      <th>4</th>\n",
       "      <td>Resort Hotel</td>\n",
       "      <td>0</td>\n",
       "      <td>14</td>\n",
       "      <td>2015</td>\n",
       "      <td>July</td>\n",
       "      <td>27</td>\n",
       "      <td>1</td>\n",
       "      <td>0</td>\n",
       "      <td>2</td>\n",
       "      <td>2</td>\n",
       "      <td>...</td>\n",
       "      <td>0</td>\n",
       "      <td>No Deposit</td>\n",
       "      <td>240.0</td>\n",
       "      <td>0</td>\n",
       "      <td>Transient</td>\n",
       "      <td>98.0</td>\n",
       "      <td>0</td>\n",
       "      <td>1</td>\n",
       "      <td>Check-Out</td>\n",
       "      <td>2015-07-03</td>\n",
       "    </tr>\n",
       "  </tbody>\n",
       "</table>\n",
       "<p>5 rows × 31 columns</p>\n",
       "</div>"
      ],
      "text/plain": [
       "          hotel  is_canceled  lead_time  arrival_date_year arrival_date_month  \\\n",
       "0  Resort Hotel            0        342               2015               July   \n",
       "1  Resort Hotel            0        737               2015               July   \n",
       "2  Resort Hotel            0          7               2015               July   \n",
       "3  Resort Hotel            0         13               2015               July   \n",
       "4  Resort Hotel            0         14               2015               July   \n",
       "\n",
       "   arrival_date_week_number  arrival_date_day_of_month  \\\n",
       "0                        27                          1   \n",
       "1                        27                          1   \n",
       "2                        27                          1   \n",
       "3                        27                          1   \n",
       "4                        27                          1   \n",
       "\n",
       "   stays_in_weekend_nights  stays_in_week_nights  adults  ...  \\\n",
       "0                        0                     0       2  ...   \n",
       "1                        0                     0       2  ...   \n",
       "2                        0                     1       1  ...   \n",
       "3                        0                     1       1  ...   \n",
       "4                        0                     2       2  ...   \n",
       "\n",
       "   booking_changes  deposit_type  agent days_in_waiting_list customer_type  \\\n",
       "0                3    No Deposit    NaN                    0     Transient   \n",
       "1                4    No Deposit    NaN                    0     Transient   \n",
       "2                0    No Deposit    NaN                    0     Transient   \n",
       "3                0    No Deposit  304.0                    0     Transient   \n",
       "4                0    No Deposit  240.0                    0     Transient   \n",
       "\n",
       "    adr  required_car_parking_spaces  total_of_special_requests  \\\n",
       "0   0.0                            0                          0   \n",
       "1   0.0                            0                          0   \n",
       "2  75.0                            0                          0   \n",
       "3  75.0                            0                          0   \n",
       "4  98.0                            0                          1   \n",
       "\n",
       "   reservation_status reservation_status_date  \n",
       "0           Check-Out              2015-07-01  \n",
       "1           Check-Out              2015-07-01  \n",
       "2           Check-Out              2015-07-02  \n",
       "3           Check-Out              2015-07-02  \n",
       "4           Check-Out              2015-07-03  \n",
       "\n",
       "[5 rows x 31 columns]"
      ]
     },
     "execution_count": 9,
     "metadata": {},
     "output_type": "execute_result"
    }
   ],
   "source": [
    "# Eliminar esas columnas del DataFrame y reasignar el DataFrame a 'df'\n",
    "df = df.drop(columns=cols_with_many_categories)\n",
    "\n",
    "# Mostrar el DataFrame final actualizado\n",
    "df.head()"
   ]
  },
  {
   "cell_type": "markdown",
   "id": "fddf76f7-ebcc-4289-8c6a-5a546c7c7355",
   "metadata": {
    "id": "fddf76f7-ebcc-4289-8c6a-5a546c7c7355"
   },
   "source": [
    "#### 1.6 Eliminar todas las filas con dos o más atributos sin valor"
   ]
  },
  {
   "cell_type": "markdown",
   "id": "d893266f",
   "metadata": {
    "id": "d893266f"
   },
   "source": [
    "#### Identificamos:"
   ]
  },
  {
   "cell_type": "code",
   "execution_count": 10,
   "id": "c98d0516-aecf-4e12-98ba-61c3b171f73a",
   "metadata": {
    "colab": {
     "base_uri": "https://localhost:8080/"
    },
    "executionInfo": {
     "elapsed": 23,
     "status": "ok",
     "timestamp": 1729310143244,
     "user": {
      "displayName": "cindi elizondo marin",
      "userId": "00194596993511553788"
     },
     "user_tz": 180
    },
    "id": "c98d0516-aecf-4e12-98ba-61c3b171f73a",
    "outputId": "15eb333f-032e-41f1-c6f9-ae97f2154fa1"
   },
   "outputs": [
    {
     "name": "stdout",
     "output_type": "stream",
     "text": [
      "Filas con dos o más valores nulos: 336\n"
     ]
    }
   ],
   "source": [
    "# Contar cuántas filas tienen dos o más valores nulos\n",
    "num_rows_with_two_or_more_nas = df[df.isnull().sum(axis=1) >= 2].shape[0]\n",
    "\n",
    "# Mostrar cuántas filas cumplen con esta condición\n",
    "print(f\"Filas con dos o más valores nulos: {num_rows_with_two_or_more_nas}\")"
   ]
  },
  {
   "cell_type": "markdown",
   "id": "3c77aca6",
   "metadata": {
    "id": "3c77aca6"
   },
   "source": [
    "#### Eliminamos:"
   ]
  },
  {
   "cell_type": "code",
   "execution_count": 11,
   "id": "25722cae",
   "metadata": {
    "colab": {
     "base_uri": "https://localhost:8080/",
     "height": 342
    },
    "executionInfo": {
     "elapsed": 13,
     "status": "ok",
     "timestamp": 1729310143845,
     "user": {
      "displayName": "cindi elizondo marin",
      "userId": "00194596993511553788"
     },
     "user_tz": 180
    },
    "id": "25722cae",
    "outputId": "66405a58-240d-4091-d0dd-f8c5643c729b"
   },
   "outputs": [
    {
     "data": {
      "text/html": [
       "<div>\n",
       "<style scoped>\n",
       "    .dataframe tbody tr th:only-of-type {\n",
       "        vertical-align: middle;\n",
       "    }\n",
       "\n",
       "    .dataframe tbody tr th {\n",
       "        vertical-align: top;\n",
       "    }\n",
       "\n",
       "    .dataframe thead th {\n",
       "        text-align: right;\n",
       "    }\n",
       "</style>\n",
       "<table border=\"1\" class=\"dataframe\">\n",
       "  <thead>\n",
       "    <tr style=\"text-align: right;\">\n",
       "      <th></th>\n",
       "      <th>hotel</th>\n",
       "      <th>is_canceled</th>\n",
       "      <th>lead_time</th>\n",
       "      <th>arrival_date_year</th>\n",
       "      <th>arrival_date_month</th>\n",
       "      <th>arrival_date_week_number</th>\n",
       "      <th>arrival_date_day_of_month</th>\n",
       "      <th>stays_in_weekend_nights</th>\n",
       "      <th>stays_in_week_nights</th>\n",
       "      <th>adults</th>\n",
       "      <th>...</th>\n",
       "      <th>booking_changes</th>\n",
       "      <th>deposit_type</th>\n",
       "      <th>agent</th>\n",
       "      <th>days_in_waiting_list</th>\n",
       "      <th>customer_type</th>\n",
       "      <th>adr</th>\n",
       "      <th>required_car_parking_spaces</th>\n",
       "      <th>total_of_special_requests</th>\n",
       "      <th>reservation_status</th>\n",
       "      <th>reservation_status_date</th>\n",
       "    </tr>\n",
       "  </thead>\n",
       "  <tbody>\n",
       "    <tr>\n",
       "      <th>0</th>\n",
       "      <td>Resort Hotel</td>\n",
       "      <td>0</td>\n",
       "      <td>342</td>\n",
       "      <td>2015</td>\n",
       "      <td>July</td>\n",
       "      <td>27</td>\n",
       "      <td>1</td>\n",
       "      <td>0</td>\n",
       "      <td>0</td>\n",
       "      <td>2</td>\n",
       "      <td>...</td>\n",
       "      <td>3</td>\n",
       "      <td>No Deposit</td>\n",
       "      <td>NaN</td>\n",
       "      <td>0</td>\n",
       "      <td>Transient</td>\n",
       "      <td>0.0</td>\n",
       "      <td>0</td>\n",
       "      <td>0</td>\n",
       "      <td>Check-Out</td>\n",
       "      <td>2015-07-01</td>\n",
       "    </tr>\n",
       "    <tr>\n",
       "      <th>1</th>\n",
       "      <td>Resort Hotel</td>\n",
       "      <td>0</td>\n",
       "      <td>737</td>\n",
       "      <td>2015</td>\n",
       "      <td>July</td>\n",
       "      <td>27</td>\n",
       "      <td>1</td>\n",
       "      <td>0</td>\n",
       "      <td>0</td>\n",
       "      <td>2</td>\n",
       "      <td>...</td>\n",
       "      <td>4</td>\n",
       "      <td>No Deposit</td>\n",
       "      <td>NaN</td>\n",
       "      <td>0</td>\n",
       "      <td>Transient</td>\n",
       "      <td>0.0</td>\n",
       "      <td>0</td>\n",
       "      <td>0</td>\n",
       "      <td>Check-Out</td>\n",
       "      <td>2015-07-01</td>\n",
       "    </tr>\n",
       "    <tr>\n",
       "      <th>2</th>\n",
       "      <td>Resort Hotel</td>\n",
       "      <td>0</td>\n",
       "      <td>7</td>\n",
       "      <td>2015</td>\n",
       "      <td>July</td>\n",
       "      <td>27</td>\n",
       "      <td>1</td>\n",
       "      <td>0</td>\n",
       "      <td>1</td>\n",
       "      <td>1</td>\n",
       "      <td>...</td>\n",
       "      <td>0</td>\n",
       "      <td>No Deposit</td>\n",
       "      <td>NaN</td>\n",
       "      <td>0</td>\n",
       "      <td>Transient</td>\n",
       "      <td>75.0</td>\n",
       "      <td>0</td>\n",
       "      <td>0</td>\n",
       "      <td>Check-Out</td>\n",
       "      <td>2015-07-02</td>\n",
       "    </tr>\n",
       "    <tr>\n",
       "      <th>3</th>\n",
       "      <td>Resort Hotel</td>\n",
       "      <td>0</td>\n",
       "      <td>13</td>\n",
       "      <td>2015</td>\n",
       "      <td>July</td>\n",
       "      <td>27</td>\n",
       "      <td>1</td>\n",
       "      <td>0</td>\n",
       "      <td>1</td>\n",
       "      <td>1</td>\n",
       "      <td>...</td>\n",
       "      <td>0</td>\n",
       "      <td>No Deposit</td>\n",
       "      <td>304.0</td>\n",
       "      <td>0</td>\n",
       "      <td>Transient</td>\n",
       "      <td>75.0</td>\n",
       "      <td>0</td>\n",
       "      <td>0</td>\n",
       "      <td>Check-Out</td>\n",
       "      <td>2015-07-02</td>\n",
       "    </tr>\n",
       "    <tr>\n",
       "      <th>4</th>\n",
       "      <td>Resort Hotel</td>\n",
       "      <td>0</td>\n",
       "      <td>14</td>\n",
       "      <td>2015</td>\n",
       "      <td>July</td>\n",
       "      <td>27</td>\n",
       "      <td>1</td>\n",
       "      <td>0</td>\n",
       "      <td>2</td>\n",
       "      <td>2</td>\n",
       "      <td>...</td>\n",
       "      <td>0</td>\n",
       "      <td>No Deposit</td>\n",
       "      <td>240.0</td>\n",
       "      <td>0</td>\n",
       "      <td>Transient</td>\n",
       "      <td>98.0</td>\n",
       "      <td>0</td>\n",
       "      <td>1</td>\n",
       "      <td>Check-Out</td>\n",
       "      <td>2015-07-03</td>\n",
       "    </tr>\n",
       "  </tbody>\n",
       "</table>\n",
       "<p>5 rows × 31 columns</p>\n",
       "</div>"
      ],
      "text/plain": [
       "          hotel  is_canceled  lead_time  arrival_date_year arrival_date_month  \\\n",
       "0  Resort Hotel            0        342               2015               July   \n",
       "1  Resort Hotel            0        737               2015               July   \n",
       "2  Resort Hotel            0          7               2015               July   \n",
       "3  Resort Hotel            0         13               2015               July   \n",
       "4  Resort Hotel            0         14               2015               July   \n",
       "\n",
       "   arrival_date_week_number  arrival_date_day_of_month  \\\n",
       "0                        27                          1   \n",
       "1                        27                          1   \n",
       "2                        27                          1   \n",
       "3                        27                          1   \n",
       "4                        27                          1   \n",
       "\n",
       "   stays_in_weekend_nights  stays_in_week_nights  adults  ...  \\\n",
       "0                        0                     0       2  ...   \n",
       "1                        0                     0       2  ...   \n",
       "2                        0                     1       1  ...   \n",
       "3                        0                     1       1  ...   \n",
       "4                        0                     2       2  ...   \n",
       "\n",
       "   booking_changes  deposit_type  agent days_in_waiting_list customer_type  \\\n",
       "0                3    No Deposit    NaN                    0     Transient   \n",
       "1                4    No Deposit    NaN                    0     Transient   \n",
       "2                0    No Deposit    NaN                    0     Transient   \n",
       "3                0    No Deposit  304.0                    0     Transient   \n",
       "4                0    No Deposit  240.0                    0     Transient   \n",
       "\n",
       "    adr  required_car_parking_spaces  total_of_special_requests  \\\n",
       "0   0.0                            0                          0   \n",
       "1   0.0                            0                          0   \n",
       "2  75.0                            0                          0   \n",
       "3  75.0                            0                          0   \n",
       "4  98.0                            0                          1   \n",
       "\n",
       "   reservation_status reservation_status_date  \n",
       "0           Check-Out              2015-07-01  \n",
       "1           Check-Out              2015-07-01  \n",
       "2           Check-Out              2015-07-02  \n",
       "3           Check-Out              2015-07-02  \n",
       "4           Check-Out              2015-07-03  \n",
       "\n",
       "[5 rows x 31 columns]"
      ]
     },
     "execution_count": 11,
     "metadata": {},
     "output_type": "execute_result"
    }
   ],
   "source": [
    "# Eliminar filas con dos o más valores nulos\n",
    "df = df.dropna(thresh=len(df.columns) - 1)\n",
    "\n",
    "# Mostrar el DataFrame después de eliminar las filas\n",
    "df.head()"
   ]
  },
  {
   "cell_type": "markdown",
   "id": "87bde91b",
   "metadata": {
    "id": "87bde91b"
   },
   "source": [
    "#### Volvemos a contar las filas y columnas de nuestro dataframe luego de las eliminaciones:"
   ]
  },
  {
   "cell_type": "code",
   "execution_count": 12,
   "id": "7f93d0db",
   "metadata": {
    "colab": {
     "base_uri": "https://localhost:8080/"
    },
    "executionInfo": {
     "elapsed": 10,
     "status": "ok",
     "timestamp": 1729310143845,
     "user": {
      "displayName": "cindi elizondo marin",
      "userId": "00194596993511553788"
     },
     "user_tz": 180
    },
    "id": "7f93d0db",
    "outputId": "c8872ca5-46c8-4761-e82d-7334abc76653"
   },
   "outputs": [
    {
     "name": "stdout",
     "output_type": "stream",
     "text": [
      "Número de filas: 119054\n",
      "Número de columnas: 31\n"
     ]
    }
   ],
   "source": [
    "# Obtener la cantidad de filas y columnas del DataFrame\n",
    "filas, columnas = df.shape\n",
    "\n",
    "# Imprimir el número de filas y columnas del DataFrame\n",
    "print(f\"Número de filas: {filas}\")\n",
    "print(f\"Número de columnas: {columnas}\")"
   ]
  },
  {
   "cell_type": "markdown",
   "id": "0b78c864-92b9-4618-8d55-7b9e5c4a40d0",
   "metadata": {
    "id": "0b78c864-92b9-4618-8d55-7b9e5c4a40d0"
   },
   "source": [
    "#### 1.7 Escoja tres variables continuas y tres nominales que considere importantes para explicar si se cancela o no una reserva."
   ]
  },
  {
   "cell_type": "markdown",
   "id": "1cdfe985-71a9-4161-8df6-9178f81e1f4f",
   "metadata": {
    "id": "1cdfe985-71a9-4161-8df6-9178f81e1f4f"
   },
   "source": [
    "#### Las variables de tipo continua elegidas son:\n",
    "\n",
    "- lead_time\n",
    "- adr\n",
    "- previous_cancellations\n",
    "\n",
    "#### Las variables de tipo nominales elegidas son:\n",
    "\n",
    "- hotel\n",
    "- market_segment\n",
    "- deposit_type\n",
    "\n",
    "### Variables de tipo Razón:\n",
    "\n",
    "#### lead_time (Número de días entre la reserva y la fecha de llegada):\n",
    "\n",
    "Un mayor tiempo de anticipación puede aumentar las probabilidades de cancelación. Cuando los clientes reservan con mucha anticipación, hay más tiempo para que sus planes cambien, y es más probable que reconsideren o cancelen la reserva.\n",
    "\n",
    "#### adr (Tarifa media diaria):\n",
    "\n",
    "El precio puede ser un factor importante para la cancelación. Si la tarifa es alta, los clientes podrían optar por cancelar si encuentran mejores ofertas o si consideran que el costo es elevado en comparación con otros alojamientos. Por otro lado, las tarifas bajas podrían reducir la probabilidad de cancelación, ya que los clientes perciben que obtienen un buen valor.\n",
    "\n",
    "#### previous_cancellations (Número de reservas anteriores canceladas):\n",
    "\n",
    "El historial de cancelaciones del cliente es un indicador clave de su comportamiento futuro. Un cliente que ha cancelado muchas reservas en el pasado es más propenso a cancelar nuevamente. Esta variable refleja el patrón de comportamiento del cliente, lo que puede ayudar a predecir la probabilidad de que la reserva actual también se cancele.\n",
    "\n",
    "### Variables Nominales:\n",
    "\n",
    "#### hotel (Tipo de hotel: Resort Hotel o City Hotel):\n",
    "\n",
    "El tipo de hotel puede influir en la probabilidad de cancelación. Los hoteles de resort, por ejemplo, son más propensos a recibir reservas para vacaciones, y las vacaciones pueden cancelarse más fácilmente debido a imprevistos o cambios de planes. En cambio, los hoteles de ciudad pueden estar más enfocados en viajes de negocios, que podrían tener una menor tasa de cancelación.\n",
    "\n",
    "#### market_segment (Segmento de mercado):\n",
    "\n",
    "El segmento de mercado desde el cual se hizo la reserva puede ser un factor clave en las cancelaciones. Por ejemplo, las reservas hechas a través de agencias de viajes o tour operadores pueden tener políticas de cancelación más flexibles o clientes menos comprometidos que cancelan con mayor frecuencia en comparación con reservas directas o corporativas.\n",
    "\n",
    "#### deposit_type (Tipo de depósito: No depósito, reembolsable, no reembolsable):\n",
    "\n",
    "El tipo de depósito es uno de los factores más directos que influye en la probabilidad de cancelación. Si el cliente ha hecho un depósito no reembolsable, será menos probable que cancele, ya que perdería dinero. Por otro lado, si no se ha hecho ningún depósito o es reembolsable, el cliente tendrá más flexibilidad para cancelar sin perder dinero, aumentando la probabilidad de que lo haga.\n"
   ]
  },
  {
   "cell_type": "markdown",
   "id": "246cd2fd-272b-4999-889c-5395dacad58e",
   "metadata": {
    "id": "246cd2fd-272b-4999-889c-5395dacad58e"
   },
   "source": [
    "#### 1.8 Realizar un gráfico de caja y bigotes para cada variable continua"
   ]
  },
  {
   "cell_type": "code",
   "execution_count": 13,
   "id": "5d4861be-c23a-4b9d-b5c6-8f43c4011f71",
   "metadata": {
    "colab": {
     "base_uri": "https://localhost:8080/",
     "height": 507
    },
    "executionInfo": {
     "elapsed": 1515,
     "status": "ok",
     "timestamp": 1729310145353,
     "user": {
      "displayName": "cindi elizondo marin",
      "userId": "00194596993511553788"
     },
     "user_tz": 180
    },
    "id": "5d4861be-c23a-4b9d-b5c6-8f43c4011f71",
    "outputId": "0adec247-f6aa-4103-9e99-ed7de78c240c"
   },
   "outputs": [
    {
     "data": {
      "image/png": "[encoded data removed]",
      "text/plain": [
       "<Figure size 1500x500 with 3 Axes>"
      ]
     },
     "metadata": {},
     "output_type": "display_data"
    }
   ],
   "source": [
    "# Variables continuas seleccionadas:\n",
    "razon_vars = ['lead_time', 'adr', 'previous_cancellations']\n",
    "\n",
    "# Generar gráficos de caja y bigotes para cada variable continua:\n",
    "plt.figure(figsize=(15,5))\n",
    "for i, var in enumerate(razon_vars, 1):\n",
    "    plt.subplot(1, 3, i)\n",
    "    sns.boxplot(data=df, y=var)\n",
    "    plt.title(f'Boxplot de {var}')\n",
    "    plt.tight_layout()"
   ]
  },
  {
   "cell_type": "markdown",
   "id": "b47a9a2f-d9cc-45fa-bd25-036677fbfbc3",
   "metadata": {
    "id": "b47a9a2f-d9cc-45fa-bd25-036677fbfbc3"
   },
   "source": [
    "#### 1.9 Calcular la cantidad de outliers para cada variable continua escogida para esto usar la métrica basada en el factor $1.5\\times\\text{IQR}$"
   ]
  },
  {
   "cell_type": "code",
   "execution_count": 14,
   "id": "cdd056af-555f-4799-a155-63f42f1712a3",
   "metadata": {
    "colab": {
     "base_uri": "https://localhost:8080/"
    },
    "executionInfo": {
     "elapsed": 12,
     "status": "ok",
     "timestamp": 1729310145354,
     "user": {
      "displayName": "cindi elizondo marin",
      "userId": "00194596993511553788"
     },
     "user_tz": 180
    },
    "id": "cdd056af-555f-4799-a155-63f42f1712a3",
    "outputId": "994fb6e1-6110-4743-b6f2-ee1a15131739"
   },
   "outputs": [
    {
     "data": {
      "text/plain": [
       "{'lead_time': 2982, 'adr': 3876, 'previous_cancellations': 6459}"
      ]
     },
     "execution_count": 14,
     "metadata": {},
     "output_type": "execute_result"
    }
   ],
   "source": [
    "# Función para calcular los outliers utilizando el método IQR\n",
    "def calcular_outliers(columna):\n",
    "    Q1 = df[columna].quantile(0.25)  # Primer cuartil (Q1)\n",
    "    Q3 = df[columna].quantile(0.75)  # Tercer cuartil (Q3)\n",
    "    IQR = Q3 - Q1  # Rango intercuartílico (IQR)\n",
    "    limite_inferior = Q1 - 1.5 * IQR  # Límite inferior\n",
    "    limite_superior = Q3 + 1.5 * IQR  # Límite superior\n",
    "    outliers = df[(df[columna] < limite_inferior) | (df[columna] > limite_superior)]  # Filtrar outliers\n",
    "    return len(outliers)  # Devolver el número de outliers\n",
    "\n",
    "# Calcular el número de outliers para cada variable continua\n",
    "outliers_count = {var: calcular_outliers(var) for var in razon_vars}\n",
    "\n",
    "# Mostrar los resultados\n",
    "outliers_count"
   ]
  },
  {
   "cell_type": "markdown",
   "id": "4c57a1e6-a5fd-4ba4-842c-0bf35b73a1cd",
   "metadata": {
    "id": "4c57a1e6-a5fd-4ba4-842c-0bf35b73a1cd"
   },
   "source": [
    "\n",
    "#### Operaciones para describir los datos\n",
    "`(20 pts.)`"
   ]
  },
  {
   "cell_type": "markdown",
   "id": "0b9316d9-983d-4eed-af31-f82bfda0c07a",
   "metadata": {
    "id": "0b9316d9-983d-4eed-af31-f82bfda0c07a"
   },
   "source": [
    "#### 2.1 Construya gráficos para representar las distribuciones de las variables continuas escogidas anteriormente."
   ]
  },
  {
   "cell_type": "code",
   "execution_count": 15,
   "id": "12728546-ecf4-4ffa-94f7-d57e7aa57bbe",
   "metadata": {
    "colab": {
     "base_uri": "https://localhost:8080/",
     "height": 507
    },
    "executionInfo": {
     "elapsed": 3172,
     "status": "ok",
     "timestamp": 1729310148520,
     "user": {
      "displayName": "cindi elizondo marin",
      "userId": "00194596993511553788"
     },
     "user_tz": 180
    },
    "id": "12728546-ecf4-4ffa-94f7-d57e7aa57bbe",
    "outputId": "f4971899-68eb-48d0-cfce-75c5ed66a4da"
   },
   "outputs": [
    {
     "data": {
      "image/png": "[encoded data removed]",
      "text/plain": [
       "<Figure size 1500x500 with 3 Axes>"
      ]
     },
     "metadata": {},
     "output_type": "display_data"
    }
   ],
   "source": [
    "# Crear histogramas con curva de densidad (primer bloque)\n",
    "plt.figure(figsize=(15, 5))\n",
    "for i, var in enumerate(razon_vars, 1):\n",
    "    plt.subplot(1, 3, i)\n",
    "    sns.histplot(df[var], bins=30, kde=True)  # Histograma con densidad\n",
    "    plt.title(f'Histograma y densidad de {var}')\n",
    "    plt.xlabel(var)\n",
    "    plt.ylabel('Frecuencia / Densidad')\n",
    "\n",
    "plt.tight_layout()\n",
    "plt.show()"
   ]
  },
  {
   "cell_type": "markdown",
   "id": "f9943ec3",
   "metadata": {
    "id": "f9943ec3"
   },
   "source": [
    "En los histogramas de las tres variables continuas (lead_time, adr, y previous_cancellations) podemos observar que las distribuciones se concentran en valores bajos cercanos a 0. Sin embargo, todas las variables presentan valores atípicos (outliers), lo que provoca un alargamiento del rango en el eje X.\n",
    "\n",
    "Estos outliers afectan la visualización y el análisis, ya que extienden el rango de la gráfica, lo que sugiere la necesidad de considerar su posible eliminación o tratamiento en un futuro. La concentración de frecuencias cerca de cero indica que la mayoría de los casos se agrupan en valores pequeños, con pocas observaciones en los valores más extremos, lo que genera asimetría en las distribuciones."
   ]
  },
  {
   "cell_type": "markdown",
   "id": "d70971b2-12fc-44ad-8e3c-576cf7166c58",
   "metadata": {
    "id": "d70971b2-12fc-44ad-8e3c-576cf7166c58"
   },
   "source": [
    "#### 2.2 Calcular las estadísticas de tendencia central, dispersión y posición para cada variable continua"
   ]
  },
  {
   "cell_type": "code",
   "execution_count": 16,
   "id": "b0dd0b38-5726-43b2-ba89-5d900349ed07",
   "metadata": {
    "colab": {
     "base_uri": "https://localhost:8080/"
    },
    "executionInfo": {
     "elapsed": 14,
     "status": "ok",
     "timestamp": 1729310148520,
     "user": {
      "displayName": "cindi elizondo marin",
      "userId": "00194596993511553788"
     },
     "user_tz": 180
    },
    "id": "b0dd0b38-5726-43b2-ba89-5d900349ed07",
    "outputId": "0e6356ef-d892-433a-d500-919a71423f94"
   },
   "outputs": [
    {
     "name": "stdout",
     "output_type": "stream",
     "text": [
      "Estadísticas para lead_time:\n",
      "  Media: 104.26245233255497\n",
      "  Mediana: 69.0\n",
      "  Varianza: 11425.963927111576\n",
      "  Desviación Estándar: 106.8923005978989\n",
      "  Rango: 737\n",
      "  Cuartil 1 (Q1): 18.0\n",
      "  Cuartil 2 (Q2 - Mediana): 69.0\n",
      "  Cuartil 3 (Q3): 161.0\n",
      "  Percentil 90: 265.0\n",
      "\n",
      "\n",
      "Estadísticas para adr:\n",
      "  Media: 101.95386093705378\n",
      "  Mediana: 95.0\n",
      "  Varianza: 2549.5938887403154\n",
      "  Desviación Estándar: 50.49350343103868\n",
      "  Rango: 5406.38\n",
      "  Cuartil 1 (Q1): 69.7\n",
      "  Cuartil 2 (Q2 - Mediana): 95.0\n",
      "  Cuartil 3 (Q3): 126.0\n",
      "  Percentil 90: 164.1\n",
      "\n",
      "\n",
      "Estadísticas para previous_cancellations:\n",
      "  Media: 0.08712852991079678\n",
      "  Mediana: 0.0\n",
      "  Varianza: 0.7146499102008922\n",
      "  Desviación Estándar: 0.845369688480071\n",
      "  Rango: 26\n",
      "  Cuartil 1 (Q1): 0.0\n",
      "  Cuartil 2 (Q2 - Mediana): 0.0\n",
      "  Cuartil 3 (Q3): 0.0\n",
      "  Percentil 90: 0.0\n",
      "\n",
      "\n"
     ]
    }
   ],
   "source": [
    "# Calcular las estadísticas de tendencia central, dispersión y posición para cada variable\n",
    "for var in razon_vars:\n",
    "    print(f\"Estadísticas para {var}:\")\n",
    "\n",
    "    # Tendencia central\n",
    "    media = df[var].mean()\n",
    "    mediana = df[var].median()\n",
    "\n",
    "    # Dispersión\n",
    "    varianza = df[var].var()\n",
    "    desviacion_estandar = df[var].std()\n",
    "    rango = df[var].max() - df[var].min()\n",
    "\n",
    "    # Posición\n",
    "    Q1 = df[var].quantile(0.25)\n",
    "    Q2 = df[var].quantile(0.50)  # También es la mediana\n",
    "    Q3 = df[var].quantile(0.75)\n",
    "    percentil_90 = df[var].quantile(0.90)\n",
    "\n",
    "    # Imprimir los resultados\n",
    "    print(f\"  Media: {media}\")\n",
    "    print(f\"  Mediana: {mediana}\")\n",
    "    print(f\"  Varianza: {varianza}\")\n",
    "    print(f\"  Desviación Estándar: {desviacion_estandar}\")\n",
    "    print(f\"  Rango: {rango}\")\n",
    "    print(f\"  Cuartil 1 (Q1): {Q1}\")\n",
    "    print(f\"  Cuartil 2 (Q2 - Mediana): {Q2}\")\n",
    "    print(f\"  Cuartil 3 (Q3): {Q3}\")\n",
    "    print(f\"  Percentil 90: {percentil_90}\")\n",
    "    print(\"\\n\")"
   ]
  },
  {
   "cell_type": "markdown",
   "id": "9d5646b7-0a81-4c06-971a-a2aee20d2ba4",
   "metadata": {
    "id": "9d5646b7-0a81-4c06-971a-a2aee20d2ba4"
   },
   "source": [
    "#### 2.3 Describa cual de las tres variables continuas que presentan mayor dispersión"
   ]
  },
  {
   "cell_type": "code",
   "execution_count": 17,
   "id": "77d71e30",
   "metadata": {
    "colab": {
     "base_uri": "https://localhost:8080/"
    },
    "executionInfo": {
     "elapsed": 13,
     "status": "ok",
     "timestamp": 1729310148521,
     "user": {
      "displayName": "cindi elizondo marin",
      "userId": "00194596993511553788"
     },
     "user_tz": 180
    },
    "id": "77d71e30",
    "outputId": "194bfde6-1135-461e-b0a2-c485e1fdfc91"
   },
   "outputs": [
    {
     "name": "stdout",
     "output_type": "stream",
     "text": [
      "Dispersión para lead_time:\n",
      "  Varianza: 11425.963927111576\n",
      "  Desviación Estándar: 106.8923005978989\n",
      "\n",
      "\n",
      "Dispersión para adr:\n",
      "  Varianza: 2549.5938887403154\n",
      "  Desviación Estándar: 50.49350343103868\n",
      "\n",
      "\n",
      "Dispersión para previous_cancellations:\n",
      "  Varianza: 0.7146499102008922\n",
      "  Desviación Estándar: 0.845369688480071\n",
      "\n",
      "\n"
     ]
    }
   ],
   "source": [
    "# Listado de variables continuas\n",
    "continuous_vars = ['lead_time', 'adr', 'previous_cancellations']\n",
    "\n",
    "# Crear un diccionario para almacenar la varianza y la desviación estándar de cada variable\n",
    "dispersions = {}\n",
    "\n",
    "# Calcular varianza y desviación estándar para cada variable continua\n",
    "for var in continuous_vars:\n",
    "    varianza = df[var].var()  # Varianza\n",
    "    desviacion_estandar = df[var].std()  # Desviación estándar\n",
    "    dispersions[var] = {'varianza': varianza, 'desviacion_estandar': desviacion_estandar}\n",
    "\n",
    "# Mostrar los resultados\n",
    "for var, stats in dispersions.items():\n",
    "    print(f\"Dispersión para {var}:\")\n",
    "    print(f\"  Varianza: {stats['varianza']}\")\n",
    "    print(f\"  Desviación Estándar: {stats['desviacion_estandar']}\")\n",
    "    print(\"\\n\")"
   ]
  },
  {
   "cell_type": "markdown",
   "id": "c86e89af",
   "metadata": {
    "id": "c86e89af"
   },
   "source": [
    "DESCRIPCIÓN :\n",
    "Lead Time es la variable con mayor dispersión, lo que indica que los días de anticipación con los que los clientes hacen las reservas varían mucho entre diferentes reservas. Esto podría reflejar diferentes comportamientos de reserva según el tipo de cliente, el motivo de viaje, o la política de cancelación.\n",
    "ADR también muestra variabilidad, pero en menor grado, sugiriendo que las tarifas diarias fluctúan según la oferta y la demanda.\n",
    "Previous Cancellations tiene una dispersión mínima, lo que indica que la mayoría de los clientes tiende a no cancelar frecuentemente."
   ]
  },
  {
   "cell_type": "markdown",
   "id": "12654b00-5a4f-4519-85a7-379857e55545",
   "metadata": {
    "id": "12654b00-5a4f-4519-85a7-379857e55545"
   },
   "source": [
    "#### 2.4 Construya los histogramas de cada variable continua, junto con su distribución normal teórica."
   ]
  },
  {
   "cell_type": "code",
   "execution_count": 18,
   "id": "JtbC4Voc27hf",
   "metadata": {
    "colab": {
     "base_uri": "https://localhost:8080/",
     "height": 1000
    },
    "executionInfo": {
     "elapsed": 1674,
     "status": "ok",
     "timestamp": 1729310150189,
     "user": {
      "displayName": "cindi elizondo marin",
      "userId": "00194596993511553788"
     },
     "user_tz": 180
    },
    "id": "JtbC4Voc27hf",
    "outputId": "9532e569-e0dc-4cc2-d43b-6a5f65f997d7"
   },
   "outputs": [
    {
     "data": {
      "image/png": "[encoded data removed]",
      "text/plain": [
       "<Figure size 1500x1000 with 3 Axes>"
      ]
     },
     "metadata": {},
     "output_type": "display_data"
    }
   ],
   "source": [
    "# Variables continuas seleccionadas\n",
    "razon_vars = ['lead_time', 'adr', 'previous_cancellations']\n",
    "\n",
    "# Generar histogramas y superponer distribución normal teórica\n",
    "plt.figure(figsize=(15, 10))\n",
    "\n",
    "for i, var in enumerate(razon_vars, 1):\n",
    "    plt.subplot(3, 1, i)\n",
    "\n",
    "    # Calcular la media y desviación estándar de la variable\n",
    "    mean = df[var].mean()\n",
    "    std_dev = df[var].std()\n",
    "\n",
    "    # Graficar el histograma\n",
    "    sns.histplot(df[var], kde=False, stat='density', bins=30, color='blue', label='Datos', alpha=0.6)\n",
    "\n",
    "    # Graficar la curva normal teórica\n",
    "    x = np.linspace(df[var].min(), df[var].max(), 100)\n",
    "    plt.plot(x, norm.pdf(x, mean, std_dev), color='red', label='Normal Teórica')\n",
    "\n",
    "    plt.title(f'Histograma y Distribución Normal Teórica para {var}')\n",
    "    plt.xlabel(var)\n",
    "    plt.ylabel('Densidad')\n",
    "    plt.legend()\n",
    "\n",
    "plt.tight_layout()\n",
    "plt.show()"
   ]
  },
  {
   "cell_type": "markdown",
   "id": "31ea18ac-d983-4b85-9aea-a86cea02aac5",
   "metadata": {
    "id": "31ea18ac-d983-4b85-9aea-a86cea02aac5"
   },
   "source": [
    "#### 2.5 Describa  si los datos de cada variable se ajusta o no a la distribución normal teórica"
   ]
  },
  {
   "cell_type": "markdown",
   "id": "091f0ea6-ac64-4f46-a701-caceab0c8b2b",
   "metadata": {
    "id": "091f0ea6-ac64-4f46-a701-caceab0c8b2b"
   },
   "source": [
    "#### 1. Lead Time:\n",
    "\n",
    "La distribución es asimétrica con un claro sesgo a la derecha, ya que la mayoría de los valores están concentrados en la parte baja (cerca de 0) y se extiende hacia valores más altos. Esto sugiere que la mayoría de las reservas se hacen con poca anticipación, mientras que solo unas pocas se realizan con mucha antelación. La curva normal teórica (en rojo) no se ajusta bien a la distribución observada, lo que indica que lead_time no sigue una distribución normal.\n",
    "\n",
    "#### 2. ADR (Tarifa Media Diaria):\n",
    "\n",
    "La mayoría de los valores de adr están concentrados en un rango bajo, pero la presencia de algunos valores muy altos (outliers) crea una cola larga hacia la derecha. Esta asimetría aleja la distribución de la forma de campana típica de una distribución normal, lo que también queda reflejado en la falta de ajuste con la curva normal teórica.\n",
    "\n",
    "#### 3. Previous Cancellations:\n",
    "\n",
    "La distribución está altamente sesgada, ya que casi todos los valores se concentran en cero. Esto refleja una gran asimetría y una falta de variabilidad significativa. La curva normal no se ajusta a esta concentración extrema en un solo valor, confirmando que previous_cancellations no sigue una distribución normal.\n",
    "\n",
    "#### Resumen:\n",
    "\n",
    "En las tres variables (lead_time, adr, y previous_cancellations), las distribuciones presentan sesgo a la derecha y colas largas debido a la concentración de valores bajos y la presencia de outliers. Ninguna de las distribuciones se aproxima a la normalidad, lo que debe ser considerado al realizar análisis estadísticos."
   ]
  },
  {
   "cell_type": "markdown",
   "id": "b792b909-ec14-4ccb-a68e-6d98857ecf3c",
   "metadata": {
    "id": "b792b909-ec14-4ccb-a68e-6d98857ecf3c"
   },
   "source": [
    "#### 2.6 Construir gráficos de barra para cada variable nominal escogida"
   ]
  },
  {
   "cell_type": "code",
   "execution_count": 19,
   "id": "70542009-1645-4ca2-b055-508150b50ba2",
   "metadata": {
    "colab": {
     "base_uri": "https://localhost:8080/",
     "height": 867
    },
    "executionInfo": {
     "elapsed": 2046,
     "status": "ok",
     "timestamp": 1729310152218,
     "user": {
      "displayName": "cindi elizondo marin",
      "userId": "00194596993511553788"
     },
     "user_tz": 180
    },
    "id": "70542009-1645-4ca2-b055-508150b50ba2",
    "outputId": "40596db2-dcae-43ac-a4ad-3866856a0c7a"
   },
   "outputs": [
    {
     "data": {
      "image/png": "[encoded data removed]",
      "text/plain": [
       "<Figure size 1800x600 with 3 Axes>"
      ]
     },
     "metadata": {},
     "output_type": "display_data"
    }
   ],
   "source": [
    "# Variables nominales seleccionadas\n",
    "nominal_vars = ['hotel', 'market_segment', 'deposit_type']\n",
    "\n",
    "# Crear gráficos de barras para las variables nominales con las barras ordenadas de mayor a menor y con etiquetas de datos\n",
    "plt.figure(figsize=(18, 6))\n",
    "for i, var in enumerate(nominal_vars, 1):\n",
    "    plt.subplot(1, 3, i)\n",
    "    order = df[var].value_counts().index  # Ordenar las categorías de mayor a menor\n",
    "    ax = sns.countplot(x=var, data=df, order=order, palette='Set2')\n",
    "\n",
    "    # Añadir etiquetas de datos encima de las barras\n",
    "    for p in ax.patches:\n",
    "        ax.annotate(f'{int(p.get_height())}',\n",
    "                    (p.get_x() + p.get_width() / 2., p.get_height()),\n",
    "                    ha='center', va='baseline', fontsize=10, color='black', xytext=(0, 5),\n",
    "                    textcoords='offset points')\n",
    "\n",
    "    plt.title(f'Frecuencia de {var}')\n",
    "    plt.xlabel(var)\n",
    "    plt.ylabel('Frecuencia')\n",
    "    plt.xticks(rotation=45)  # Rotar los nombres de las categorías si es necesario\n",
    "\n",
    "plt.tight_layout()\n",
    "plt.show()"
   ]
  },
  {
   "cell_type": "markdown",
   "id": "467cb1b7-cd53-493a-9686-b81d489ea98e",
   "metadata": {
    "id": "467cb1b7-cd53-493a-9686-b81d489ea98e"
   },
   "source": [
    "#### 2.7 Describa los gráficos anteriores"
   ]
  },
  {
   "cell_type": "markdown",
   "id": "a10f48ec-6556-4339-b3a2-23dc777ff346",
   "metadata": {
    "id": "a10f48ec-6556-4339-b3a2-23dc777ff346"
   },
   "source": [
    "#### 1. Hotel:\n",
    "\n",
    "**Análisis:** En la variable hotel, los City Hotels representan la mayor parte de las reservas, con 79.320 en comparación con 39.734 en los Resort Hotels. Esto sugiere que los viajeros prefieren alojarse en zonas urbanas, probablemente debido a la conveniencia para viajes de negocios o actividades en la ciudad. Los Resort Hotels, ubicados en áreas recreativas o vacacionales, tienen aproximadamente la mitad de las reservas, lo que podría indicar que las estancias de ocio son menos frecuentes que las estancias en la ciudad.\n",
    "\n",
    "**Relevancia para la cancelación:** Las reservas en Resort Hotels podrían tener mayor probabilidad de cancelación, ya que las vacaciones son más susceptibles a cambios de planes, mientras que los City Hotels, utilizados frecuentemente para viajes de negocios, pueden tener tasas de cancelación más bajas debido a la naturaleza más urgente y planificada de estos viajes.\n",
    "\n",
    "#### 2. Market Segment:\n",
    "\n",
    "**Análisis:** El canal market_segment muestra que Online TA (agencias de viajes en línea) es, con diferencia, el más utilizado, con 56.474 reservas, casi el doble del siguiente canal, Offline TA/TO, que tiene 24.216 reservas. Esto muestra que las plataformas en línea juegan un papel crucial en las reservas de hotel, probablemente debido a la comodidad y facilidad de uso que ofrecen a los clientes. Otros segmentos como Direct (12.465 reservas), Corporate (5.120), y Groups (19.808) tienen menor impacto. Las reservas Complementary y Aviation son casi insignificantes, con 734 y 237 reservas, respectivamente.\n",
    "\n",
    "**Relevancia para la cancelación:** Las reservas realizadas a través de Online TA suelen tener políticas de cancelación más flexibles, lo que aumenta la probabilidad de cancelaciones. En cambio, los canales Corporate y Direct pueden tener menos cancelaciones debido a la rigidez de las políticas de empresa y la naturaleza más formal de las reservas.\n",
    "\n",
    "#### 3. Deposit Type:\n",
    "\n",
    "**Análisis:** En la variable deposit_type, la mayoría de las reservas (104.303) se realizan sin necesidad de depósito previo (No Deposit). Esto indica que la política más común es permitir a los clientes reservar sin pago anticipado. Las reservas Non Refund (no reembolsables) suman 14.587, mientras que las reservas Refundable son mínimas, con solo 162. Esto sugiere que los clientes prefieren la flexibilidad de no pagar por adelantado y evitar compromisos financieros rígidos.\n",
    "\n",
    "**Relevancia para la cancelación:** Las reservas No Deposit son más vulnerables a cancelaciones, ya que los clientes no están comprometidos financieramente. En cambio, las reservas Non Refund tienen menos probabilidades de cancelarse, ya que los clientes pierden el dinero en caso de anulación.\n"
   ]
  },
  {
   "cell_type": "markdown",
   "id": "1b73dbbd-f045-4231-bb75-56cb4ff23f4b",
   "metadata": {
    "id": "1b73dbbd-f045-4231-bb75-56cb4ff23f4b"
   },
   "source": [
    "#### 3. Operaciones de transformación\n",
    "`(10 pts)`"
   ]
  },
  {
   "cell_type": "markdown",
   "id": "e7e0abef-0624-4159-9637-c981074d8230",
   "metadata": {
    "id": "e7e0abef-0624-4159-9637-c981074d8230"
   },
   "source": [
    "#### 3.1 Agregar tres variables nuevas al DataFrame con las variables continuas transformadas usando escalamiento de estandarización"
   ]
  },
  {
   "cell_type": "code",
   "execution_count": 20,
   "id": "20b08293-52e6-4977-94c6-9c9d88bbf854",
   "metadata": {
    "colab": {
     "base_uri": "https://localhost:8080/",
     "height": 206
    },
    "executionInfo": {
     "elapsed": 83,
     "status": "ok",
     "timestamp": 1729310152218,
     "user": {
      "displayName": "cindi elizondo marin",
      "userId": "00194596993511553788"
     },
     "user_tz": 180
    },
    "id": "20b08293-52e6-4977-94c6-9c9d88bbf854",
    "outputId": "97cbcb84-9bb5-4c94-a0d6-d52869064ef6"
   },
   "outputs": [
    {
     "data": {
      "text/html": [
       "<div>\n",
       "<style scoped>\n",
       "    .dataframe tbody tr th:only-of-type {\n",
       "        vertical-align: middle;\n",
       "    }\n",
       "\n",
       "    .dataframe tbody tr th {\n",
       "        vertical-align: top;\n",
       "    }\n",
       "\n",
       "    .dataframe thead th {\n",
       "        text-align: right;\n",
       "    }\n",
       "</style>\n",
       "<table border=\"1\" class=\"dataframe\">\n",
       "  <thead>\n",
       "    <tr style=\"text-align: right;\">\n",
       "      <th></th>\n",
       "      <th>lead_time_standardized</th>\n",
       "      <th>adr_standardized</th>\n",
       "      <th>previous_cancellations_standardized</th>\n",
       "    </tr>\n",
       "  </thead>\n",
       "  <tbody>\n",
       "    <tr>\n",
       "      <th>0</th>\n",
       "      <td>2.224094</td>\n",
       "      <td>-2.019157</td>\n",
       "      <td>-0.103066</td>\n",
       "    </tr>\n",
       "    <tr>\n",
       "      <th>1</th>\n",
       "      <td>5.919418</td>\n",
       "      <td>-2.019157</td>\n",
       "      <td>-0.103066</td>\n",
       "    </tr>\n",
       "    <tr>\n",
       "      <th>2</th>\n",
       "      <td>-0.909915</td>\n",
       "      <td>-0.533811</td>\n",
       "      <td>-0.103066</td>\n",
       "    </tr>\n",
       "    <tr>\n",
       "      <th>3</th>\n",
       "      <td>-0.853783</td>\n",
       "      <td>-0.533811</td>\n",
       "      <td>-0.103066</td>\n",
       "    </tr>\n",
       "    <tr>\n",
       "      <th>4</th>\n",
       "      <td>-0.844428</td>\n",
       "      <td>-0.078305</td>\n",
       "      <td>-0.103066</td>\n",
       "    </tr>\n",
       "  </tbody>\n",
       "</table>\n",
       "</div>"
      ],
      "text/plain": [
       "   lead_time_standardized  adr_standardized  \\\n",
       "0                2.224094         -2.019157   \n",
       "1                5.919418         -2.019157   \n",
       "2               -0.909915         -0.533811   \n",
       "3               -0.853783         -0.533811   \n",
       "4               -0.844428         -0.078305   \n",
       "\n",
       "   previous_cancellations_standardized  \n",
       "0                            -0.103066  \n",
       "1                            -0.103066  \n",
       "2                            -0.103066  \n",
       "3                            -0.103066  \n",
       "4                            -0.103066  "
      ]
     },
     "execution_count": 20,
     "metadata": {},
     "output_type": "execute_result"
    }
   ],
   "source": [
    "# Crear un objeto de StandardScaler\n",
    "scaler = StandardScaler()\n",
    "\n",
    "# Variables continuas de tipo razón\n",
    "razon_vars = ['lead_time', 'adr', 'previous_cancellations']\n",
    "\n",
    "# Aplicar estandarización y agregar las nuevas columnas al DataFrame original\n",
    "for var in razon_vars:\n",
    "    df[f'{var}_standardized'] = scaler.fit_transform(df[[var]])\n",
    "\n",
    "# Mostrar las primeras 5 filas del DataFrame para verificar las nuevas columnas\n",
    "df[[f'{var}_standardized' for var in razon_vars]].head()"
   ]
  },
  {
   "cell_type": "markdown",
   "id": "ee4d087c-b403-4037-814f-24c3195dc4f5",
   "metadata": {
    "id": "ee4d087c-b403-4037-814f-24c3195dc4f5"
   },
   "source": [
    "#### 3.2 Agregar tres variables nuevas al DataFrame con las variables continuas transformadas usando escalamiento de normalización"
   ]
  },
  {
   "cell_type": "code",
   "execution_count": 21,
   "id": "b36bdc4c-910e-4404-8d91-b3e8a8e86e02",
   "metadata": {
    "colab": {
     "base_uri": "https://localhost:8080/",
     "height": 206
    },
    "executionInfo": {
     "elapsed": 75,
     "status": "ok",
     "timestamp": 1729310152219,
     "user": {
      "displayName": "cindi elizondo marin",
      "userId": "00194596993511553788"
     },
     "user_tz": 180
    },
    "id": "b36bdc4c-910e-4404-8d91-b3e8a8e86e02",
    "outputId": "3d7c6aa8-a57b-4a98-c0a3-28625aba4437"
   },
   "outputs": [
    {
     "data": {
      "text/html": [
       "<div>\n",
       "<style scoped>\n",
       "    .dataframe tbody tr th:only-of-type {\n",
       "        vertical-align: middle;\n",
       "    }\n",
       "\n",
       "    .dataframe tbody tr th {\n",
       "        vertical-align: top;\n",
       "    }\n",
       "\n",
       "    .dataframe thead th {\n",
       "        text-align: right;\n",
       "    }\n",
       "</style>\n",
       "<table border=\"1\" class=\"dataframe\">\n",
       "  <thead>\n",
       "    <tr style=\"text-align: right;\">\n",
       "      <th></th>\n",
       "      <th>lead_time_normalized</th>\n",
       "      <th>adr_normalized</th>\n",
       "      <th>previous_cancellations_normalized</th>\n",
       "    </tr>\n",
       "  </thead>\n",
       "  <tbody>\n",
       "    <tr>\n",
       "      <th>0</th>\n",
       "      <td>0.464043</td>\n",
       "      <td>0.001180</td>\n",
       "      <td>0.0</td>\n",
       "    </tr>\n",
       "    <tr>\n",
       "      <th>1</th>\n",
       "      <td>1.000000</td>\n",
       "      <td>0.001180</td>\n",
       "      <td>0.0</td>\n",
       "    </tr>\n",
       "    <tr>\n",
       "      <th>2</th>\n",
       "      <td>0.009498</td>\n",
       "      <td>0.015053</td>\n",
       "      <td>0.0</td>\n",
       "    </tr>\n",
       "    <tr>\n",
       "      <th>3</th>\n",
       "      <td>0.017639</td>\n",
       "      <td>0.015053</td>\n",
       "      <td>0.0</td>\n",
       "    </tr>\n",
       "    <tr>\n",
       "      <th>4</th>\n",
       "      <td>0.018996</td>\n",
       "      <td>0.019307</td>\n",
       "      <td>0.0</td>\n",
       "    </tr>\n",
       "  </tbody>\n",
       "</table>\n",
       "</div>"
      ],
      "text/plain": [
       "   lead_time_normalized  adr_normalized  previous_cancellations_normalized\n",
       "0              0.464043        0.001180                                0.0\n",
       "1              1.000000        0.001180                                0.0\n",
       "2              0.009498        0.015053                                0.0\n",
       "3              0.017639        0.015053                                0.0\n",
       "4              0.018996        0.019307                                0.0"
      ]
     },
     "execution_count": 21,
     "metadata": {},
     "output_type": "execute_result"
    }
   ],
   "source": [
    "# Crear un objeto de MinMaxScaler\n",
    "min_max_scaler = MinMaxScaler()\n",
    "\n",
    "# Variables continuas de tipo razón\n",
    "razon_vars = ['lead_time', 'adr', 'previous_cancellations']\n",
    "\n",
    "# Aplicar normalización y agregar las nuevas columnas al DataFrame original\n",
    "for var in razon_vars:\n",
    "    df[f'{var}_normalized'] = min_max_scaler.fit_transform(df[[var]])\n",
    "\n",
    "# Mostrar las primeras 5 filas del DataFrame para verificar las nuevas columnas\n",
    "df[[f'{var}_normalized' for var in razon_vars]].head()"
   ]
  },
  {
   "cell_type": "markdown",
   "id": "ad205264-2662-4697-9a16-8fa656f26398",
   "metadata": {
    "id": "ad205264-2662-4697-9a16-8fa656f26398"
   },
   "source": [
    "#### 3.3 Agregar tres variables nuevas al DataFrame con las variables continuas transformadas usando escalamiento Robust Scaler"
   ]
  },
  {
   "cell_type": "code",
   "execution_count": 22,
   "id": "bcecf4d1-fb1c-4de0-962f-a9642aed036b",
   "metadata": {
    "colab": {
     "base_uri": "https://localhost:8080/",
     "height": 206
    },
    "executionInfo": {
     "elapsed": 65,
     "status": "ok",
     "timestamp": 1729310152219,
     "user": {
      "displayName": "cindi elizondo marin",
      "userId": "00194596993511553788"
     },
     "user_tz": 180
    },
    "id": "bcecf4d1-fb1c-4de0-962f-a9642aed036b",
    "outputId": "9af8d3dc-334b-4c5f-ae9e-f035176be796"
   },
   "outputs": [
    {
     "data": {
      "text/html": [
       "<div>\n",
       "<style scoped>\n",
       "    .dataframe tbody tr th:only-of-type {\n",
       "        vertical-align: middle;\n",
       "    }\n",
       "\n",
       "    .dataframe tbody tr th {\n",
       "        vertical-align: top;\n",
       "    }\n",
       "\n",
       "    .dataframe thead th {\n",
       "        text-align: right;\n",
       "    }\n",
       "</style>\n",
       "<table border=\"1\" class=\"dataframe\">\n",
       "  <thead>\n",
       "    <tr style=\"text-align: right;\">\n",
       "      <th></th>\n",
       "      <th>lead_time_robust_scaled</th>\n",
       "      <th>adr_robust_scaled</th>\n",
       "      <th>previous_cancellations_robust_scaled</th>\n",
       "    </tr>\n",
       "  </thead>\n",
       "  <tbody>\n",
       "    <tr>\n",
       "      <th>0</th>\n",
       "      <td>1.909091</td>\n",
       "      <td>-1.687389</td>\n",
       "      <td>0.0</td>\n",
       "    </tr>\n",
       "    <tr>\n",
       "      <th>1</th>\n",
       "      <td>4.671329</td>\n",
       "      <td>-1.687389</td>\n",
       "      <td>0.0</td>\n",
       "    </tr>\n",
       "    <tr>\n",
       "      <th>2</th>\n",
       "      <td>-0.433566</td>\n",
       "      <td>-0.355240</td>\n",
       "      <td>0.0</td>\n",
       "    </tr>\n",
       "    <tr>\n",
       "      <th>3</th>\n",
       "      <td>-0.391608</td>\n",
       "      <td>-0.355240</td>\n",
       "      <td>0.0</td>\n",
       "    </tr>\n",
       "    <tr>\n",
       "      <th>4</th>\n",
       "      <td>-0.384615</td>\n",
       "      <td>0.053286</td>\n",
       "      <td>0.0</td>\n",
       "    </tr>\n",
       "  </tbody>\n",
       "</table>\n",
       "</div>"
      ],
      "text/plain": [
       "   lead_time_robust_scaled  adr_robust_scaled  \\\n",
       "0                 1.909091          -1.687389   \n",
       "1                 4.671329          -1.687389   \n",
       "2                -0.433566          -0.355240   \n",
       "3                -0.391608          -0.355240   \n",
       "4                -0.384615           0.053286   \n",
       "\n",
       "   previous_cancellations_robust_scaled  \n",
       "0                                   0.0  \n",
       "1                                   0.0  \n",
       "2                                   0.0  \n",
       "3                                   0.0  \n",
       "4                                   0.0  "
      ]
     },
     "execution_count": 22,
     "metadata": {},
     "output_type": "execute_result"
    }
   ],
   "source": [
    "# Crear un objeto de RobustScaler\n",
    "robust_scaler = RobustScaler()\n",
    "\n",
    "# Variables continuas de tipo razón\n",
    "razon_vars = ['lead_time', 'adr', 'previous_cancellations']\n",
    "\n",
    "# Aplicar el escalamiento con Robust Scaler y agregar las nuevas columnas al DataFrame original\n",
    "for var in razon_vars:\n",
    "    df[f'{var}_robust_scaled'] = robust_scaler.fit_transform(df[[var]])\n",
    "\n",
    "# Mostrar las primeras 5 filas del DataFrame para verificar las nuevas columnas\n",
    "df[[f'{var}_robust_scaled' for var in razon_vars]].head()"
   ]
  },
  {
   "cell_type": "markdown",
   "id": "d9eb354a",
   "metadata": {
    "id": "d9eb354a"
   },
   "source": [
    "#### Volvemos a contar las filas y columnas de nuestro dataframe luego de las creaciones de columnas:"
   ]
  },
  {
   "cell_type": "code",
   "execution_count": 23,
   "id": "cb9de664",
   "metadata": {
    "colab": {
     "base_uri": "https://localhost:8080/"
    },
    "executionInfo": {
     "elapsed": 58,
     "status": "ok",
     "timestamp": 1729310152220,
     "user": {
      "displayName": "cindi elizondo marin",
      "userId": "00194596993511553788"
     },
     "user_tz": 180
    },
    "id": "cb9de664",
    "outputId": "acc61549-891b-4299-acac-76b6d9ecdb95"
   },
   "outputs": [
    {
     "name": "stdout",
     "output_type": "stream",
     "text": [
      "Número de filas: 119054\n",
      "Número de columnas: 40\n"
     ]
    }
   ],
   "source": [
    "# Obtener la cantidad de filas y columnas del DataFrame\n",
    "filas, columnas = df.shape\n",
    "\n",
    "# Imprimir el número de filas y columnas del DataFrame\n",
    "print(f\"Número de filas: {filas}\")\n",
    "print(f\"Número de columnas: {columnas}\")"
   ]
  },
  {
   "cell_type": "markdown",
   "id": "98f00340",
   "metadata": {
    "id": "98f00340"
   },
   "source": [
    "Podemos apreciar que contamos con 40 columnas en nuestro dataframe, por lo tanto las nuevas columnas fueron creadas de forma exitosa."
   ]
  },
  {
   "cell_type": "markdown",
   "id": "93c2ed8a-9541-4806-be97-46fe043e3ccd",
   "metadata": {
    "id": "93c2ed8a-9541-4806-be97-46fe043e3ccd"
   },
   "source": [
    "#### 4. Construya gráficos de Pie para cada variable nominal escogida `(12 pts.)`"
   ]
  },
  {
   "cell_type": "code",
   "execution_count": 25,
   "id": "4d827ded-8533-45b8-927a-aea8d278af2d",
   "metadata": {
    "colab": {
     "base_uri": "https://localhost:8080/",
     "height": 471
    },
    "executionInfo": {
     "elapsed": 807,
     "status": "ok",
     "timestamp": 1729310152989,
     "user": {
      "displayName": "cindi elizondo marin",
      "userId": "00194596993511553788"
     },
     "user_tz": 180
    },
    "id": "4d827ded-8533-45b8-927a-aea8d278af2d",
    "outputId": "4f4f9a69-2689-4bee-f1ab-4895c6809830",
    "scrolled": false
   },
   "outputs": [
    {
     "data": {
      "image/png": "[encoded data removed]",
      "text/plain": [
       "<Figure size 1800x600 with 3 Axes>"
      ]
     },
     "metadata": {},
     "output_type": "display_data"
    }
   ],
   "source": [
    "# Variables nominales seleccionadas\n",
    "nominal_vars = ['hotel', 'market_segment', 'deposit_type']\n",
    "\n",
    "# Crear gráficos de Pie para cada variable nominal\n",
    "plt.figure(figsize=(18, 6))  # Ajustar el tamaño general de los gráficos\n",
    "\n",
    "for i, var in enumerate(nominal_vars, 1):\n",
    "    plt.subplot(1, 3, i)\n",
    "\n",
    "    # Obtener los valores únicos y su frecuencia\n",
    "    valores = df[var].value_counts()\n",
    "\n",
    "    # Crear el gráfico de Pie con ajuste de etiquetas\n",
    "    plt.pie(valores, labels=valores.index, autopct='%1.1f%%', startangle=90,\n",
    "            colors=plt.cm.Set2.colors, textprops={'fontsize': 12},\n",
    "            pctdistance=0.85, labeldistance=1.1)  # Ajustar las etiquetas\n",
    "\n",
    "    plt.title(f'Distribución de {var}', fontsize=14)\n"
   ]
  },
  {
   "cell_type": "markdown",
   "id": "de198891",
   "metadata": {
    "id": "de198891"
   },
   "source": [
    "Podemos apreciar cómo cada uno de los gráficos de torta nos permite visualizar la distribución de las categorías en cada variable. En el caso de las variables con menos categorías, como hotel y deposit_type, los gráficos son claros y fáciles de interpretar. En hotel, por ejemplo, se ve claramente que los City Hotels dominan con un 66.6% de las reservas, mientras que los Resort Hotels representan el 33.4%.\n",
    "\n",
    "Sin embargo, el gráfico de market_segment presenta algunos problemas de legibilidad debido a la mayor cantidad de categorías (más de 4). Las etiquetas comienzan a superponerse, dificultando la interpretación correcta del gráfico. Además, las categorías con muy poca representatividad, como Aviation y Complementary, se muestran con áreas tan pequeñas que apenas son visibles. Esto es un buen ejemplo de cómo los gráficos de torta pueden volverse menos útiles cuando hay muchas categorías o cuando algunas tienen una proporción insignificante del total, como es el caso de Refundable en deposit_type, que solo cubre el 0.1% y prácticamente no se distingue."
   ]
  },
  {
   "cell_type": "markdown",
   "id": "8b369f47-cf76-4c7e-9d1f-545aef39427d",
   "metadata": {
    "id": "8b369f47-cf76-4c7e-9d1f-545aef39427d"
   },
   "source": [
    "#### 5. De acuerdo al objetivo de tener una modelo que nos permita predecir si una reserva se va a cancelar o no, mencione que tipo de algoritmo de Machine Learning se debería aplicar. `(8 pts.)`"
   ]
  },
  {
   "cell_type": "markdown",
   "id": "b4bd31f2-6651-4e15-b05c-dd9691d93e4a",
   "metadata": {
    "id": "b4bd31f2-6651-4e15-b05c-dd9691d93e4a"
   },
   "source": [
    "Podemos hablar de dos modelos de Machine Learning que puede dar solución al requerimiento planteado, uno mas complejo que el otro, con sus propias ventajas y desventajas, según se explica a continuación:\n",
    "\n",
    "#### 1.- Regresión Logística:\n",
    "\n",
    "Una de las primeras opciones a considerar es la Regresión Logística, dado que es un modelo supervisado diseñado específicamente para problemas de clasificación binaria. Este modelo permite estimar la probabilidad de que un evento ocurra, como en este caso, la cancelación de una reserva. \n",
    "\n",
    "- Algunas de sus principales ventajas son:\n",
    "\n",
    "**Simplicidad e interpretabilidad:** la Regresión Logística es fácil de implementar y proporciona coeficientes que pueden ser interpretados directamente, lo que facilita la comprensión de cómo cada característica del conjunto de datos (por ejemplo, el lead time o el tipo de hotel) influye en la probabilidad de cancelación.\n",
    "\n",
    "**Eficiencia computacional:** es un modelo ligero, que no requiere grandes recursos computacionales, lo que lo hace adecuado para implementaciones iniciales rápidas.\n",
    "\n",
    "Sin embargo, es importante tener en cuenta que este modelo asume relaciones lineales entre las características y el logaritmo de las probabilidades de cancelación, **lo cual puede limitar su capacidad predictiva en escenarios donde las relaciones entre las variables sean más complejas o no lineales.**\n",
    "\n",
    "#### 2.- Random Forest:\n",
    "\n",
    "Otra alternativa más robusta sería utilizar un modelo de Random Forest, el cual se basa en la creación de múltiples árboles de decisión y combina sus resultados para mejorar la precisión de la predicción. \n",
    "\n",
    "- Algunas de las ventajas de este enfoque incluyen:\n",
    "\n",
    "**Capacidad para manejar relaciones no lineales:** Random Forest es capaz de capturar interacciones complejas entre las variables sin necesidad de que estas sean modeladas explícitamente por el usuario.\n",
    "\n",
    "**Reducción de la varianza:** al promediar los resultados de múltiples árboles, este modelo es menos propenso al sobreajuste en comparación con un único árbol de decisión.\n",
    "\n",
    "**Importancia de características:** Random Forest también permite evaluar la importancia relativa de cada una de las variables en la predicción, lo cual puede proporcionar información valiosa para mejorar el análisis de datos.\n",
    "\n",
    "No obstante, este enfoque tiene sus desventajas, como una mayor complejidad computacional y una menor interpretabilidad en comparación con la Regresión Logística. A medida que los modelos basados en árboles combinan múltiples decisiones, se vuelve más difícil entender cómo cada variable afecta directamente a la predicción de cancelación.\n",
    "\n",
    "#### Conclusión:\n",
    "\n",
    "Dado que el objetivo principal es predecir la cancelación de reservas, sería recomendable comenzar con un modelo de Regresión Logística debido a su simplicidad e interpretabilidad, lo que permitiría obtener rápidamente una línea base. A partir de allí, si se busca mejorar la precisión del modelo y capturar relaciones más complejas entre las variables, podría ser beneficioso explorar un algoritmo más avanzado como lo es Random Forest. En cualquier caso, sería esencial realizar un proceso de validación cruzada para garantizar que el modelo generalice adecuadamente a nuevos datos, evitando así problemas de sobreajuste."
   ]
  },
  {
   "cell_type": "markdown",
   "id": "f8f32a97-92f1-456c-a133-8bc112dfb2b1",
   "metadata": {
    "id": "f8f32a97-92f1-456c-a133-8bc112dfb2b1"
   },
   "source": [
    "#### 6. Investigue como realizar una visualización de la correlación de Pearson para las variables continúas escogidas e interprete los resultados. `(10 pts.)`"
   ]
  },
  {
   "cell_type": "markdown",
   "id": "34e6a8f8",
   "metadata": {},
   "source": [
    "Una de las formas más claras de poder graficar la correlación entre las variables es el mapa de calor, que mediante colores y los resultados de las correlaciones, nos dan una clara idea de como las variables se relacionan entre sí, a continuación el código para graficarlo:"
   ]
  },
  {
   "cell_type": "code",
   "execution_count": 27,
   "id": "imCmKxY28ZU6",
   "metadata": {
    "colab": {
     "base_uri": "https://localhost:8080/",
     "height": 545
    },
    "executionInfo": {
     "elapsed": 562,
     "status": "ok",
     "timestamp": 1729310600863,
     "user": {
      "displayName": "cindi elizondo marin",
      "userId": "00194596993511553788"
     },
     "user_tz": 180
    },
    "id": "imCmKxY28ZU6",
    "outputId": "0dca9d8f-84ee-43c3-ccdd-232a50dcd5a5"
   },
   "outputs": [
    {
     "data": {
      "image/png": "[encoded data removed]",
      "text/plain": [
       "<Figure size 800x600 with 2 Axes>"
      ]
     },
     "metadata": {},
     "output_type": "display_data"
    }
   ],
   "source": [
    "# Variables continuas seleccionadas\n",
    "razon_vars = ['lead_time', 'adr', 'previous_cancellations']\n",
    "\n",
    "# Calcular la correlación de Pearson entre las variables\n",
    "correlation_matrix = df[razon_vars].corr(method='pearson')\n",
    "\n",
    "# Crear el heatmap para visualizar la matriz de correlación\n",
    "plt.figure(figsize=(8, 6))\n",
    "sns.heatmap(correlation_matrix, annot=True, cmap='coolwarm', center=0, vmin=-1, vmax=1)\n",
    "plt.title('Mapa de Calor de la Correlación de Pearson')\n",
    "plt.show()"
   ]
  },
  {
   "cell_type": "markdown",
   "id": "9b6c4826-0d30-46e7-8715-0cf9b38ce48a",
   "metadata": {
    "id": "9b6c4826-0d30-46e7-8715-0cf9b38ce48a"
   },
   "source": [
    "### Análisis de las Correlaciones (Pearson):\n",
    "\n",
    "#### lead_time vs adr (correlación = -0.066):\n",
    "\n",
    "La correlación es ligeramente negativa y cercana a 0. Esto significa que no existe una relación lineal fuerte entre el tiempo de anticipación de la reserva (lead_time) y la tarifa diaria media (adr).\n",
    "\n",
    "En términos prácticos, esto indica que la cantidad de días que un cliente reserva con anticipación no está relacionada de manera significativa con el precio que paga por la habitación. Es decir, tanto clientes que reservan con mucha anticipación como aquellos que reservan en el último minuto podrían estar pagando tarifas similares.\n",
    "\n",
    "Interpretación para el modelo: Dado que la correlación es débil, es poco probable que lead_time y adr interactúen de manera significativa entre ellas en un modelo predictivo de cancelación.\n",
    "\n",
    "#### lead_time vs previous_cancellations (correlación = 0.086):\n",
    "\n",
    "Esta correlación es ligeramente positiva, pero nuevamente cercana a 0. Esto implica que no hay una relación lineal fuerte entre el tiempo de anticipación de la reserva (lead_time) y las cancelaciones previas del cliente (previous_cancellations).\n",
    "\n",
    "Aunque la correlación es positiva, la magnitud es tan baja que no se puede concluir que los clientes que hacen sus reservas con más anticipación tienden a haber cancelado más en el pasado. Cualquier relación que pueda existir es débil y probablemente no significativa.\n",
    "\n",
    "Interpretación para el modelo: Dado el bajo valor de correlación, lead_time y previous_cancellations probablemente no interactúan fuertemente entre ellas en la predicción de cancelaciones futuras.\n",
    "\n",
    "#### adr vs previous_cancellations (correlación = -0.066):\n",
    "\n",
    "La correlación es ligeramente negativa, y como las demás, es cercana a 0. Esto indica que no existe una relación lineal significativa entre la tarifa diaria media (adr) y las cancelaciones previas del cliente.\n",
    "\n",
    "En términos simples, los clientes que pagan tarifas más altas no parecen ser significativamente más o menos propensos a haber cancelado reservas en el pasado. La relación es prácticamente inexistente.\n",
    "\n",
    "Interpretación para el modelo: Al igual que en los casos anteriores, adr y previous_cancellations no muestran una interacción fuerte, por lo que es poco probable que esta relación tenga un impacto significativo en un modelo predictivo.\n",
    "\n",
    "### Conclusión Final:\n",
    "\n",
    "El Mapa de Calor que muestra la correlación de Pearson sugiere que no hay relaciones lineales fuertes entre las variables continuas seleccionadas (lead_time, adr, y previous_cancellations). Todas las correlaciones están muy cercanas a 0, lo que indica que las variables se comportan de manera independiente entre sí en el contexto de este análisis.\n",
    "\n",
    "#### Implicaciones para el modelo:\n",
    "\n",
    "Dado que las correlaciones son débiles, estas variables probablemente no interactúan entre sí de manera significativa, lo cual indica que las predicciones sobre cancelaciones basadas en estas variables podrían no mejorar considerablemente al incluir interacciones entre ellas.\n",
    "\n",
    "Sin embargo, cada una de estas variables podría aún tener una relación no lineal con la probabilidad de cancelación (por ejemplo, otras técnicas como Random Forest o Redes Neuronales podrían capturar relaciones más complejas).\n",
    "\n",
    "En resumen, las correlaciones débiles entre estas variables no descartan que cada una pueda ser relevante en un modelo predictivo, pero no sugieren relaciones fuertes que puedan guiar las predicciones de cancelaciones basándose en interacciones entre ellas."
   ]
  }
 ],
 "metadata": {
  "colab": {
   "provenance": []
  },
  "kernelspec": {
   "display_name": "Python 3",
   "language": "python",
   "name": "python3"
  },
  "language_info": {
   "codemirror_mode": {
    "name": "ipython",
    "version": 3
   },
   "file_extension": ".py",
   "mimetype": "text/x-python",
   "name": "python",
   "nbconvert_exporter": "python",
   "pygments_lexer": "ipython3",
   "version": "3.12.5"
  }
 },
 "nbformat": 4,
 "nbformat_minor": 5
}
